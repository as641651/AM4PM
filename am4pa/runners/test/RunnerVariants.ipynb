{
 "cells": [
  {
   "cell_type": "code",
   "execution_count": 3,
   "id": "2306ab4f",
   "metadata": {},
   "outputs": [],
   "source": [
    "import os\n",
    "import subprocess\n",
    "import pandas as pd\n",
    "import shutil"
   ]
  },
  {
   "cell_type": "markdown",
   "id": "8ef74f14",
   "metadata": {},
   "source": [
    "### Runner :\n",
    "\n",
    "Calls a script file in a specified directory."
   ]
  },
  {
   "cell_type": "code",
   "execution_count": 128,
   "id": "864c38db",
   "metadata": {},
   "outputs": [],
   "source": [
    "class RunnerVariants:\n",
    "    def __init__(self,operand_sizes, \n",
    "                 script_dir,\n",
    "                 threads=4,\n",
    "                 backend_manager=None,\n",
    "                 backend_commands=None):\n",
    "        \"\"\"\n",
    "        This class handles the code generation and execution of the variant codes.\n",
    "        The generated event data can be obtained as a pandas dataframe.\n",
    "\n",
    "        Requirements:\n",
    "\n",
    "        It is assumed that there exists a script file that generates variant codes\n",
    "        for a given oopoerand sizes. The operand sizes are input as command line args\n",
    "            e.g. run of script file: python generate.py 10 10 10 10 12\n",
    "\n",
    "        After running the script file, inside the folder \"experiments\", which is in\n",
    "        the same directory as the script file, an \"argument folder\" is generated,\n",
    "        which contains the case_table, event_meta_table (i.e, the event table without actual run times)\n",
    "        ,and a runner script as shown in the expample below:\n",
    "            e.g. experiment/10_10_10_10_12/\n",
    "                    case_table.csv\n",
    "                    event_meta_table.csv\n",
    "                    runner.jl\n",
    "\n",
    "        'runner.jl' is the script that runs the experiments and generates a log file 'run_times.txt' (which is the\n",
    "        event table with actual run times) in the \"arguments folder\"\n",
    "\n",
    "\n",
    "        INPUT:\n",
    "\n",
    "        name: Experiment name\n",
    "        script_path: Path to the script file that generates variants\n",
    "        args: operand sizes (or arguments to the script file)\n",
    "\n",
    "        USECASE:\n",
    "        If the behavior of the script is as said in the requirements, this class can\n",
    "        call the scipt file and collects the eventlogs as a pandas dataframe, and\n",
    "        if needed, can also clean the generated folders.\n",
    "\n",
    "        \"\"\"\n",
    "        self.script_dir = script_dir\n",
    "        self.operand_sizes = operand_sizes\n",
    "        self.operands_dir = os.path.join(self.script_dir,\n",
    "                                     \"experiments\",\n",
    "                                     \"_\".join(self.operand_sizes))\n",
    "\n",
    "        self.backend_manager = backend_manager\n",
    "        self.backend_commands = backend_commands\n",
    "        self.threads = threads\n",
    "\n",
    "    def generate_variants_for_measurements(self, generation_script):\n",
    "        \"\"\"\n",
    "        generates experiments for a given set of valid arguments\n",
    "        that can be given as input to the script file.\n",
    "            e.g. in,  python generate.py 10 10 10 10 12\n",
    "            ['10','10','10','10','12'] would be the argument list.\n",
    "\n",
    "        Output: Return code == 0 implies successful completion\n",
    "        \"\"\"\n",
    "        script_path = os.path.join(self.script_dir, generation_script)\n",
    "        args = self.operand_sizes + [\"--threads={}\".format(self.threads)]\n",
    "        if not self.backend_manager:\n",
    "            call = [\"python\", script_path] + args\n",
    "            print(call)\n",
    "            completed_proccess = subprocess.run(call)\n",
    "            ret = completed_proccess.returncode\n",
    "        else:\n",
    "            cmd = self.backend_commands.build_cmd(\"python\", script_path, \" \".join(args))\n",
    "            #print(cmd)\n",
    "            stdout, ret = self.backend_manager.run_cmd(cmd)\n",
    "            print(stdout.readlines())\n",
    "\n",
    "        return ret\n",
    "\n",
    "    def measure_variants(self, app, runner_script):\n",
    "        \"\"\"\n",
    "        executes the runner file, which generates run_times.txt\n",
    "        \"\"\"\n",
    "        runner_path = os.path.join(self.operands_dir, runner_script)\n",
    "        if not self.backend_manager:\n",
    "            if os.path.exists(self.operands_dir):\n",
    "                print(\"Running Experiments locally\")\n",
    "                completed_proccess = subprocess.run([app, runner_path])\n",
    "                if completed_proccess.returncode == 0:\n",
    "                    print(\"Experiments completed locally\")\n",
    "                    return 0  # Ran experiment\n",
    "        else:\n",
    "            cmd = self.backend_commands.build_cmd(app, runner_path)\n",
    "            stdout, ret = self.backend_manager.run_cmd(cmd)\n",
    "            print(stdout.readlines())\n",
    "            if ret == 0:\n",
    "                print(\"Running experiments in the backend.\")\n",
    "                return 0\n",
    "\n",
    "        return -1\n",
    "    \n",
    "    def generate_measurements_script(self, measurement_script, competing_variants, run_id, reps):\n",
    "        pass\n",
    "\n",
    "    def clean(self):\n",
    "        \"\"\"remove arguments folder\"\"\"\n",
    "        if os.path.exists(self.operands_dir):\n",
    "            shutil.rmtree(self.operands_dir)\n",
    "        else:\n",
    "            return -1\n",
    "\n"
   ]
  },
  {
   "cell_type": "markdown",
   "id": "e7d025d2",
   "metadata": {},
   "source": [
    "### Local measurements"
   ]
  },
  {
   "cell_type": "code",
   "execution_count": 129,
   "id": "a514eb5e",
   "metadata": {},
   "outputs": [],
   "source": [
    "operand_sizes = [\"75\",\"75\",\"6\",\"75\",\"75\"]\n",
    "script_dir = \"sample_generation/\"\n",
    "runner_local = RunnerVariants(operand_sizes, script_dir)"
   ]
  },
  {
   "cell_type": "code",
   "execution_count": 130,
   "id": "2611ac82",
   "metadata": {},
   "outputs": [
    {
     "name": "stdout",
     "output_type": "stream",
     "text": [
      "['python', 'sample_generation/generate-variants-linnea.py', '75', '75', '6', '75', '75', '--threads=4']\n",
      "New solution:.............2.02e+05\n",
      "No further generation steps possible.\n",
      "----------------------------------\n",
      "Number of nodes:                 8\n",
      "Solution nodes:                  1\n",
      "Data:                     1.78e+04\n",
      "Best solution:            2.02e+05\n",
      "Intensity:                    11.4\n",
      "Number of algorithms:            6\n",
      "Generated Variants.\n"
     ]
    },
    {
     "data": {
      "text/plain": [
       "0"
      ]
     },
     "execution_count": 130,
     "metadata": {},
     "output_type": "execute_result"
    }
   ],
   "source": [
    "runner_local.generate_variants_for_measurements(generation_script=\"generate-variants-linnea.py\")"
   ]
  },
  {
   "cell_type": "code",
   "execution_count": 131,
   "id": "73fbedc3",
   "metadata": {},
   "outputs": [
    {
     "name": "stdout",
     "output_type": "stream",
     "text": [
      "Running Experiments locally\n",
      "Experiments completed locally\n"
     ]
    },
    {
     "data": {
      "text/plain": [
       "0"
      ]
     },
     "execution_count": 131,
     "metadata": {},
     "output_type": "execute_result"
    }
   ],
   "source": [
    "runner_local.measure_variants(app=\"julia\", runner_script=\"runner.jl\")"
   ]
  },
  {
   "cell_type": "markdown",
   "id": "1a5c0cf2",
   "metadata": {},
   "source": [
    "### Backend measurements"
   ]
  },
  {
   "cell_type": "code",
   "execution_count": 132,
   "id": "95784548",
   "metadata": {},
   "outputs": [],
   "source": [
    "from backend_manager import BackendManager,Commands"
   ]
  },
  {
   "cell_type": "code",
   "execution_count": 133,
   "id": "3f94653b",
   "metadata": {},
   "outputs": [],
   "source": [
    "bm = BackendManager(server=\"login18-1.hpc.itc.rwth-aachen.de\", uname=\"as641651\")\n",
    "bm.connect()\n",
    "cmds = Commands(source=\"~/.analyzer\")"
   ]
  },
  {
   "cell_type": "code",
   "execution_count": 134,
   "id": "dea4fcb0",
   "metadata": {},
   "outputs": [],
   "source": [
    "operand_sizes = [\"75\",\"75\",\"6\",\"75\",\"75\"]\n",
    "script_dir = \"sample_generation/\"\n",
    "generation_script = \"generate-variants-linnea.py\"\n",
    "runner = RunnerVariants(operand_sizes, script_dir,backend_manager=bm, backend_commands=cmds)"
   ]
  },
  {
   "cell_type": "code",
   "execution_count": 135,
   "id": "9b7c3707",
   "metadata": {},
   "outputs": [
    {
     "name": "stdout",
     "output_type": "stream",
     "text": [
      "source ~/.analyzer; cd sample_generation; python generate-variants-linnea.py 75 75 6 75 75 --threads=4\n",
      "['New solution:.............2.02e+05\\n', 'No further generation steps possible.\\n', '----------------------------------\\n', 'Number of nodes:                 8\\n', 'Solution nodes:                  1\\n', 'Data:                     1.78e+04\\n', 'Best solution:            2.02e+05\\n', 'Intensity:                    11.4\\n', 'Number of algorithms:            6\\n', 'Generated Variants.\\n']\n"
     ]
    }
   ],
   "source": [
    "ret = runner.generate_variants_for_measurements(generation_script=generation_script)"
   ]
  },
  {
   "cell_type": "code",
   "execution_count": 136,
   "id": "5162fe29",
   "metadata": {},
   "outputs": [
    {
     "data": {
      "text/plain": [
       "0"
      ]
     },
     "execution_count": 136,
     "metadata": {},
     "output_type": "execute_result"
    }
   ],
   "source": [
    "ret"
   ]
  },
  {
   "cell_type": "code",
   "execution_count": 137,
   "id": "5be96d6f",
   "metadata": {},
   "outputs": [
    {
     "name": "stdout",
     "output_type": "stream",
     "text": [
      "source ~/.analyzer; cd sample_generation/experiments/75_75_6_75_75; julia runner.jl \n",
      "[]\n",
      "Running experiments in the backend.\n"
     ]
    },
    {
     "data": {
      "text/plain": [
       "0"
      ]
     },
     "execution_count": 137,
     "metadata": {},
     "output_type": "execute_result"
    }
   ],
   "source": [
    "runner.measure_variants(app=\"julia\", runner_script=\"runner.jl\")"
   ]
  },
  {
   "cell_type": "code",
   "execution_count": null,
   "id": "af571c12",
   "metadata": {},
   "outputs": [],
   "source": []
  }
 ],
 "metadata": {
  "kernelspec": {
   "display_name": "Python 3 (ipykernel)",
   "language": "python",
   "name": "python3"
  },
  "language_info": {
   "codemirror_mode": {
    "name": "ipython",
    "version": 3
   },
   "file_extension": ".py",
   "mimetype": "text/x-python",
   "name": "python",
   "nbconvert_exporter": "python",
   "pygments_lexer": "ipython3",
   "version": "3.9.7"
  }
 },
 "nbformat": 4,
 "nbformat_minor": 5
}

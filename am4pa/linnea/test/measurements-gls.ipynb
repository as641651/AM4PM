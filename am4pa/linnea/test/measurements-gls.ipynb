{
 "cells": [
  {
   "cell_type": "code",
   "execution_count": 1,
   "id": "2b73c52d",
   "metadata": {},
   "outputs": [],
   "source": [
    "from am4pa.linnea import LinneaConfig, MeasurementsLinnea, expr_init"
   ]
  },
  {
   "cell_type": "code",
   "execution_count": 2,
   "id": "f786dfc7",
   "metadata": {},
   "outputs": [],
   "source": [
    "linnea_config = LinneaConfig(\"gls.py\",12)\n",
    "linnea_config.set_local_directory(\"codes/GLS-2\")\n",
    "linnea_config.setup_backend_details(server=\"login18-1.hpc.itc.rwth-aachen.de\",\n",
    "                                   uname = \"as641651\",\n",
    "                                   init_script=\"~/.analyzer\",\n",
    "                                   backend_root=\"~/PhD/va4algs-exps/\")"
   ]
  },
  {
   "cell_type": "code",
   "execution_count": 3,
   "id": "070807ab",
   "metadata": {},
   "outputs": [],
   "source": [
    "linnea_config.connect_backend()"
   ]
  },
  {
   "cell_type": "code",
   "execution_count": 4,
   "id": "49b1af01",
   "metadata": {},
   "outputs": [
    {
     "name": "stdout",
     "output_type": "stream",
     "text": [
      "scp -r codes/GLS-2 as641651@login18-1.hpc.itc.rwth-aachen.de:~/PhD/va4algs-exps/\n",
      "b''\n"
     ]
    }
   ],
   "source": [
    "linnea_config.sync_local_and_backend()"
   ]
  },
  {
   "cell_type": "code",
   "execution_count": 5,
   "id": "a6affd4e",
   "metadata": {},
   "outputs": [],
   "source": [
    "ml = MeasurementsLinnea(linnea_config,[\"100\",\"100\"])"
   ]
  },
  {
   "cell_type": "code",
   "execution_count": 6,
   "id": "d30f160e",
   "metadata": {},
   "outputs": [
    {
     "name": "stdout",
     "output_type": "stream",
     "text": [
      "source ~/.analyzer; cd ~/PhD/va4algs-exps/GLS-2; python generate-variants-linnea.py 100 100 --threads=12\n",
      "['New solution:.............6.87e+05\\n', 'No further generation steps possible.\\n', '----------------------------------\\n', 'Number of nodes:                10\\n', 'Solution nodes:                  1\\n', 'Data:                     1.02e+04\\n', 'Best solution:            6.87e+05\\n', 'Intensity:                    67.3\\n', 'Number of algorithms:            3\\n', 'Generated Variants.\\n']\n",
      "\u001b[92mSuccess: Backend interactive run: Generate variants\u001b[0m\n"
     ]
    }
   ],
   "source": [
    "ml.generate_variants()"
   ]
  },
  {
   "cell_type": "code",
   "execution_count": 7,
   "id": "a96a84c4",
   "metadata": {},
   "outputs": [],
   "source": [
    " h0 = ml.gather_competing_variants(bmeasure_once=False, rel_duration=1.1)"
   ]
  },
  {
   "cell_type": "code",
   "execution_count": 8,
   "id": "cb6f2e19",
   "metadata": {},
   "outputs": [
    {
     "data": {
      "text/plain": [
       "['algorithm0', 'algorithm2', 'algorithm1']"
      ]
     },
     "execution_count": 8,
     "metadata": {},
     "output_type": "execute_result"
    }
   ],
   "source": [
    "h0"
   ]
  },
  {
   "cell_type": "code",
   "execution_count": 9,
   "id": "88391d09",
   "metadata": {},
   "outputs": [
    {
     "name": "stdout",
     "output_type": "stream",
     "text": [
      "source ~/.analyzer; cd ~/PhD/va4algs-exps/GLS-2/experiments/12T/100_100; python generate-measurements-script.py --algs algorithm0 algorithm2 algorithm1 --rep 10 --threads 12 --id 1\n",
      "[]\n",
      "\u001b[92mSuccess: Backend interactive run: Generate Measurement script 1\u001b[0m\n",
      "Running Measurements Backend interactive\n",
      "source ~/.analyzer; cd ~/PhD/va4algs-exps/GLS-2/experiments/12T/100_100; julia runner_competing_1.jl \n",
      "[]\n",
      "\u001b[92mSuccess: Backend interactive run: Measurements from runner_competing_1.jl\u001b[0m\n",
      "scp as641651@login18-1.hpc.itc.rwth-aachen.de:~/PhD/va4algs-exps/GLS-2/experiments/12T/100_100/run_times_competing_1.csv codes/GLS-2/cluster-data/12T/100_100\n",
      "b''\n"
     ]
    }
   ],
   "source": [
    "ml.measure(10,1)"
   ]
  },
  {
   "cell_type": "code",
   "execution_count": 12,
   "id": "38c607ee",
   "metadata": {},
   "outputs": [
    {
     "data": {
      "text/html": [
       "<div>\n",
       "<style scoped>\n",
       "    .dataframe tbody tr th:only-of-type {\n",
       "        vertical-align: middle;\n",
       "    }\n",
       "\n",
       "    .dataframe tbody tr th {\n",
       "        vertical-align: top;\n",
       "    }\n",
       "\n",
       "    .dataframe thead th {\n",
       "        text-align: right;\n",
       "    }\n",
       "</style>\n",
       "<table border=\"1\" class=\"dataframe\">\n",
       "  <thead>\n",
       "    <tr style=\"text-align: right;\">\n",
       "      <th></th>\n",
       "      <th>case:concept:name</th>\n",
       "      <th>case:flops</th>\n",
       "      <th>case:num_kernels</th>\n",
       "    </tr>\n",
       "  </thead>\n",
       "  <tbody>\n",
       "    <tr>\n",
       "      <th>0</th>\n",
       "      <td>algorithm0</td>\n",
       "      <td>687000.0</td>\n",
       "      <td>3</td>\n",
       "    </tr>\n",
       "    <tr>\n",
       "      <th>1</th>\n",
       "      <td>algorithm2</td>\n",
       "      <td>22000000.0</td>\n",
       "      <td>3</td>\n",
       "    </tr>\n",
       "    <tr>\n",
       "      <th>2</th>\n",
       "      <td>algorithm1</td>\n",
       "      <td>2700000.0</td>\n",
       "      <td>3</td>\n",
       "    </tr>\n",
       "  </tbody>\n",
       "</table>\n",
       "</div>"
      ],
      "text/plain": [
       "  case:concept:name  case:flops  case:num_kernels\n",
       "0        algorithm0    687000.0                 3\n",
       "1        algorithm2  22000000.0                 3\n",
       "2        algorithm1   2700000.0                 3"
      ]
     },
     "execution_count": 12,
     "metadata": {},
     "output_type": "execute_result"
    }
   ],
   "source": [
    "ml.data_collector.get_case_table()"
   ]
  },
  {
   "cell_type": "code",
   "execution_count": 14,
   "id": "fc8baa9e",
   "metadata": {},
   "outputs": [
    {
     "data": {
      "text/html": [
       "<div>\n",
       "<style scoped>\n",
       "    .dataframe tbody tr th:only-of-type {\n",
       "        vertical-align: middle;\n",
       "    }\n",
       "\n",
       "    .dataframe tbody tr th {\n",
       "        vertical-align: top;\n",
       "    }\n",
       "\n",
       "    .dataframe thead th {\n",
       "        text-align: right;\n",
       "    }\n",
       "</style>\n",
       "<table border=\"1\" class=\"dataframe\">\n",
       "  <thead>\n",
       "    <tr style=\"text-align: right;\">\n",
       "      <th></th>\n",
       "      <th>case:concept:name</th>\n",
       "      <th>concept:name</th>\n",
       "      <th>concept:flops</th>\n",
       "      <th>concept:operation</th>\n",
       "      <th>concept:kernel</th>\n",
       "      <th>timestamp:start</th>\n",
       "      <th>timestamp:end</th>\n",
       "    </tr>\n",
       "  </thead>\n",
       "  <tbody>\n",
       "    <tr>\n",
       "      <th>0</th>\n",
       "      <td>algorithm1_19</td>\n",
       "      <td>ml0 = qr_2.67e+06</td>\n",
       "      <td>2670000.0</td>\n",
       "      <td>(Q4 R5) = X</td>\n",
       "      <td>ml0 = qr!(ml0)</td>\n",
       "      <td>1.688486e+09</td>\n",
       "      <td>1.688486e+09</td>\n",
       "    </tr>\n",
       "    <tr>\n",
       "      <th>1</th>\n",
       "      <td>algorithm1_19</td>\n",
       "      <td>gemv_2e+04</td>\n",
       "      <td>20000.0</td>\n",
       "      <td>tmp13 = (Q4^T y)</td>\n",
       "      <td>gemv!('T', 1.0, ml3, ml2, 0.0, ml4)</td>\n",
       "      <td>1.688486e+09</td>\n",
       "      <td>1.688486e+09</td>\n",
       "    </tr>\n",
       "    <tr>\n",
       "      <th>2</th>\n",
       "      <td>algorithm1_19</td>\n",
       "      <td>trsv_1e+04</td>\n",
       "      <td>10000.0</td>\n",
       "      <td>tmp11 = (R5^-1 tmp13)</td>\n",
       "      <td>trsv!('U', 'N', 'N', ml5, ml4)</td>\n",
       "      <td>1.688486e+09</td>\n",
       "      <td>1.688486e+09</td>\n",
       "    </tr>\n",
       "    <tr>\n",
       "      <th>3</th>\n",
       "      <td>algorithm1_14</td>\n",
       "      <td>ml0 = qr_2.67e+06</td>\n",
       "      <td>2670000.0</td>\n",
       "      <td>(Q4 R5) = X</td>\n",
       "      <td>ml0 = qr!(ml0)</td>\n",
       "      <td>1.688486e+09</td>\n",
       "      <td>1.688486e+09</td>\n",
       "    </tr>\n",
       "    <tr>\n",
       "      <th>4</th>\n",
       "      <td>algorithm1_14</td>\n",
       "      <td>gemv_2e+04</td>\n",
       "      <td>20000.0</td>\n",
       "      <td>tmp13 = (Q4^T y)</td>\n",
       "      <td>gemv!('T', 1.0, ml3, ml2, 0.0, ml4)</td>\n",
       "      <td>1.688486e+09</td>\n",
       "      <td>1.688486e+09</td>\n",
       "    </tr>\n",
       "    <tr>\n",
       "      <th>...</th>\n",
       "      <td>...</td>\n",
       "      <td>...</td>\n",
       "      <td>...</td>\n",
       "      <td>...</td>\n",
       "      <td>...</td>\n",
       "      <td>...</td>\n",
       "      <td>...</td>\n",
       "    </tr>\n",
       "    <tr>\n",
       "      <th>85</th>\n",
       "      <td>algorithm1_16</td>\n",
       "      <td>gemv_2e+04</td>\n",
       "      <td>20000.0</td>\n",
       "      <td>tmp13 = (Q4^T y)</td>\n",
       "      <td>gemv!('T', 1.0, ml3, ml2, 0.0, ml4)</td>\n",
       "      <td>1.688486e+09</td>\n",
       "      <td>1.688486e+09</td>\n",
       "    </tr>\n",
       "    <tr>\n",
       "      <th>86</th>\n",
       "      <td>algorithm1_16</td>\n",
       "      <td>trsv_1e+04</td>\n",
       "      <td>10000.0</td>\n",
       "      <td>tmp11 = (R5^-1 tmp13)</td>\n",
       "      <td>trsv!('U', 'N', 'N', ml5, ml4)</td>\n",
       "      <td>1.688486e+09</td>\n",
       "      <td>1.688486e+09</td>\n",
       "    </tr>\n",
       "    <tr>\n",
       "      <th>87</th>\n",
       "      <td>algorithm0_13</td>\n",
       "      <td>(ml0, ml3, info) = LAPACK.getrf_6.67e+05</td>\n",
       "      <td>667000.0</td>\n",
       "      <td>(P3^T L1 U2) = X</td>\n",
       "      <td>(ml0, ml3, info) = LAPACK.getrf!(ml0)</td>\n",
       "      <td>1.688486e+09</td>\n",
       "      <td>1.688486e+09</td>\n",
       "    </tr>\n",
       "    <tr>\n",
       "      <th>88</th>\n",
       "      <td>algorithm0_13</td>\n",
       "      <td>trsv_100</td>\n",
       "      <td>100.0</td>\n",
       "      <td>tmp9 = (P3 y)</td>\n",
       "      <td>trsv!('L', 'N', 'U', ml0, ml5)</td>\n",
       "      <td>1.688486e+09</td>\n",
       "      <td>1.688486e+09</td>\n",
       "    </tr>\n",
       "    <tr>\n",
       "      <th>89</th>\n",
       "      <td>algorithm0_13</td>\n",
       "      <td>trsv_1e+04</td>\n",
       "      <td>10000.0</td>\n",
       "      <td>tmp10 = (L1^-1 tmp9)</td>\n",
       "      <td>trsv!('U', 'N', 'N', ml0, ml5)</td>\n",
       "      <td>1.688486e+09</td>\n",
       "      <td>1.688486e+09</td>\n",
       "    </tr>\n",
       "  </tbody>\n",
       "</table>\n",
       "<p>90 rows × 7 columns</p>\n",
       "</div>"
      ],
      "text/plain": [
       "   case:concept:name                              concept:name  concept:flops  \\\n",
       "0      algorithm1_19                         ml0 = qr_2.67e+06      2670000.0   \n",
       "1      algorithm1_19                                gemv_2e+04        20000.0   \n",
       "2      algorithm1_19                                trsv_1e+04        10000.0   \n",
       "3      algorithm1_14                         ml0 = qr_2.67e+06      2670000.0   \n",
       "4      algorithm1_14                                gemv_2e+04        20000.0   \n",
       "..               ...                                       ...            ...   \n",
       "85     algorithm1_16                                gemv_2e+04        20000.0   \n",
       "86     algorithm1_16                                trsv_1e+04        10000.0   \n",
       "87     algorithm0_13  (ml0, ml3, info) = LAPACK.getrf_6.67e+05       667000.0   \n",
       "88     algorithm0_13                                  trsv_100          100.0   \n",
       "89     algorithm0_13                                trsv_1e+04        10000.0   \n",
       "\n",
       "        concept:operation                         concept:kernel  \\\n",
       "0             (Q4 R5) = X                         ml0 = qr!(ml0)   \n",
       "1        tmp13 = (Q4^T y)    gemv!('T', 1.0, ml3, ml2, 0.0, ml4)   \n",
       "2   tmp11 = (R5^-1 tmp13)         trsv!('U', 'N', 'N', ml5, ml4)   \n",
       "3             (Q4 R5) = X                         ml0 = qr!(ml0)   \n",
       "4        tmp13 = (Q4^T y)    gemv!('T', 1.0, ml3, ml2, 0.0, ml4)   \n",
       "..                    ...                                    ...   \n",
       "85       tmp13 = (Q4^T y)    gemv!('T', 1.0, ml3, ml2, 0.0, ml4)   \n",
       "86  tmp11 = (R5^-1 tmp13)         trsv!('U', 'N', 'N', ml5, ml4)   \n",
       "87       (P3^T L1 U2) = X  (ml0, ml3, info) = LAPACK.getrf!(ml0)   \n",
       "88          tmp9 = (P3 y)         trsv!('L', 'N', 'U', ml0, ml5)   \n",
       "89   tmp10 = (L1^-1 tmp9)         trsv!('U', 'N', 'N', ml0, ml5)   \n",
       "\n",
       "    timestamp:start  timestamp:end  \n",
       "0      1.688486e+09   1.688486e+09  \n",
       "1      1.688486e+09   1.688486e+09  \n",
       "2      1.688486e+09   1.688486e+09  \n",
       "3      1.688486e+09   1.688486e+09  \n",
       "4      1.688486e+09   1.688486e+09  \n",
       "..              ...            ...  \n",
       "85     1.688486e+09   1.688486e+09  \n",
       "86     1.688486e+09   1.688486e+09  \n",
       "87     1.688486e+09   1.688486e+09  \n",
       "88     1.688486e+09   1.688486e+09  \n",
       "89     1.688486e+09   1.688486e+09  \n",
       "\n",
       "[90 rows x 7 columns]"
      ]
     },
     "execution_count": 14,
     "metadata": {},
     "output_type": "execute_result"
    }
   ],
   "source": [
    "ml.data_collector.get_runtimes_competing_table(1)"
   ]
  },
  {
   "cell_type": "code",
   "execution_count": 15,
   "id": "71d845d9",
   "metadata": {},
   "outputs": [
    {
     "data": {
      "text/plain": [
       "{'algorithm0': [0.19835805892944336,\n",
       "  0.000141143798828125,\n",
       "  0.00010609626770019531,\n",
       "  0.00014400482177734375,\n",
       "  0.00010514259338378906,\n",
       "  0.00012683868408203125,\n",
       "  0.0001239776611328125,\n",
       "  0.0001239776611328125,\n",
       "  0.000125885009765625,\n",
       "  0.000125885009765625],\n",
       " 'algorithm2': [0.20504403114318848,\n",
       "  0.0066509246826171875,\n",
       "  0.006145000457763672,\n",
       "  0.0068018436431884766,\n",
       "  0.005800962448120117,\n",
       "  0.006494998931884766,\n",
       "  0.006227016448974609,\n",
       "  0.007658958435058594,\n",
       "  0.006374835968017578,\n",
       "  0.006453037261962891],\n",
       " 'algorithm1': [0.7054228782653809,\n",
       "  0.0018510818481445312,\n",
       "  0.0009260177612304688,\n",
       "  0.0014529228210449219,\n",
       "  0.0008389949798583984,\n",
       "  0.0008730888366699219,\n",
       "  0.0008611679077148438,\n",
       "  0.0009999275207519531,\n",
       "  0.0008449554443359375,\n",
       "  0.0008208751678466797]}"
      ]
     },
     "execution_count": 15,
     "metadata": {},
     "output_type": "execute_result"
    }
   ],
   "source": [
    "ml.get_alg_measurements()"
   ]
  },
  {
   "cell_type": "code",
   "execution_count": null,
   "id": "c937bcad",
   "metadata": {},
   "outputs": [],
   "source": []
  }
 ],
 "metadata": {
  "kernelspec": {
   "display_name": "Python 3 (ipykernel)",
   "language": "python",
   "name": "python3"
  },
  "language_info": {
   "codemirror_mode": {
    "name": "ipython",
    "version": 3
   },
   "file_extension": ".py",
   "mimetype": "text/x-python",
   "name": "python",
   "nbconvert_exporter": "python",
   "pygments_lexer": "ipython3",
   "version": "3.9.7"
  }
 },
 "nbformat": 4,
 "nbformat_minor": 5
}

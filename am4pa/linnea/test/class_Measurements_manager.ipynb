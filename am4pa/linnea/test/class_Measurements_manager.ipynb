{
 "cells": [
  {
   "cell_type": "code",
   "execution_count": 1,
   "id": "067e9815",
   "metadata": {},
   "outputs": [],
   "source": [
    "from am4pa.linnea import DataManagerLinnea, LinneaConfig\n",
    "from am4pa.linnea import OperandsSamplerCorner\n",
    "#from am4pa.linnea import MeasurementsMaganer"
   ]
  },
  {
   "cell_type": "code",
   "execution_count": 23,
   "id": "43f50c4c",
   "metadata": {},
   "outputs": [],
   "source": [
    "class MeasurementsMaganer:\n",
    "    def __init__(self,data_manager, operands_sampler,thread_str):\n",
    "        self.dml = data_manager\n",
    "        self.ops = operands_sampler\n",
    "        self.thread_str = thread_str\n",
    "        self.threads = int(self.thread_str.split('T')[0])\n",
    "        \n",
    "    \n",
    "    def generate_basic_variants(self):\n",
    "        op_list = self.ops.get_operands_basics()\n",
    "        self._generate_variants(op_list)\n",
    "        \n",
    " \n",
    "    def generate_variants_sampler(self,n):    \n",
    "        op_list = []\n",
    "        for i in range(n):\n",
    "            op_list.append(self.ops.sample())\n",
    "        self._generate_variants(op_list)\n",
    "            \n",
    "    \n",
    "    def _generate_variants(self,op_list):\n",
    "        for op in op_list:\n",
    "            op_str = self.get_op_string(op)\n",
    "            if not self.thread_str in self.dml.operands_data:\n",
    "                self.dml.generate_variants(self.threads,op_str)\n",
    "            elif not op_str in self.dml.operands_data[self.thread_str]:\n",
    "                self.dml.generate_variants(self.threads,op_str)\n",
    "    \n",
    "    def measure_variants(self,reps,run_id,bSlrum):\n",
    "        \n",
    "        op_strs = self.dml.operands_data[self.thread_str]\n",
    "        \n",
    "        if self.thread_str in self.dml.measurements_data:    \n",
    "            md = self.dml.measurements_data[self.thread_str]\n",
    "        else:\n",
    "            md = {}\n",
    "        \n",
    "        for op_str in op_strs:\n",
    "            bMeasure = False\n",
    "            if not op_str in md:\n",
    "                bMeasure = True\n",
    "            elif str(run_id) not in md[op_str]:\n",
    "                bMeasure = True\n",
    "            \n",
    "            if bMeasure:\n",
    "                self.dml.measure_variants(self.threads,op_str,reps,run_id,bSlrum)\n",
    "\n",
    "    def check_completed_slrum_jobs(self):\n",
    "        self.dml.check_completed_slrum_jobs()\n",
    "        \n",
    "        \n",
    "    def get_op_string(self, op):\n",
    "        return '_'.join(map(str,op))\n",
    "    "
   ]
  },
  {
   "cell_type": "code",
   "execution_count": 2,
   "id": "d625a572",
   "metadata": {},
   "outputs": [],
   "source": [
    "linnea_config = LinneaConfig(\"gls.py\")\n",
    "linnea_config.set_local_directory(\"codes/GLS-ix01\")\n",
    "linnea_config.setup_backend_details(server=\"login18-1.hpc.itc.rwth-aachen.de\",\n",
    "                                   uname = \"as641651\",\n",
    "                                   init_script=\"~/.analyzer\",\n",
    "                                   backend_root=\"~/PhD/va4algs-exps/\")\n",
    "linnea_config.connect_backend()"
   ]
  },
  {
   "cell_type": "code",
   "execution_count": 3,
   "id": "b64e13a2",
   "metadata": {},
   "outputs": [
    {
     "name": "stdout",
     "output_type": "stream",
     "text": [
      "{'problem': 'gls.py', 'backend': True, 'server': 'login18-1.hpc.itc.rwth-aachen.de', 'uname': 'as641651', 'local_dir': 'codes/GLS-ix01', 'backend_dir': '~/PhD/va4algs-exps/GLS-ix01'}\n"
     ]
    }
   ],
   "source": [
    "dml = DataManagerLinnea(linnea_config)"
   ]
  },
  {
   "cell_type": "code",
   "execution_count": 4,
   "id": "e3686fff",
   "metadata": {},
   "outputs": [
    {
     "data": {
      "text/plain": [
       "{'24T': {'1000_10': ['1'],\n",
       "  '100_100': ['1'],\n",
       "  '300_300': ['1'],\n",
       "  '500_500': ['1'],\n",
       "  '1000_1000': ['1'],\n",
       "  '1500_1500': ['1'],\n",
       "  '10_10': ['1'],\n",
       "  '50_50': ['1'],\n",
       "  '70_70': ['1'],\n",
       "  '223_47': ['1'],\n",
       "  '451_14': ['1'],\n",
       "  '13_440': ['1'],\n",
       "  '35_914': ['1'],\n",
       "  '48_486': ['1'],\n",
       "  '918_70': ['1'],\n",
       "  '13_1381': ['1'],\n",
       "  '438_48': ['1'],\n",
       "  '1204_278': ['1'],\n",
       "  '744_530': ['1'],\n",
       "  '10_1000': ['1']}}"
      ]
     },
     "execution_count": 4,
     "metadata": {},
     "output_type": "execute_result"
    }
   ],
   "source": [
    "dml.measurements_data"
   ]
  },
  {
   "cell_type": "code",
   "execution_count": 5,
   "id": "2ac45dc9",
   "metadata": {},
   "outputs": [],
   "source": [
    "ops = OperandsSamplerCorner(2,1500,50,0.5)"
   ]
  },
  {
   "cell_type": "code",
   "execution_count": 6,
   "id": "2751a44a",
   "metadata": {},
   "outputs": [],
   "source": [
    "mm = MeasurementsMaganer(dml,ops,'24T')"
   ]
  },
  {
   "cell_type": "code",
   "execution_count": 7,
   "id": "dbf0acce",
   "metadata": {},
   "outputs": [],
   "source": [
    "mm.generate_basic_variants()"
   ]
  },
  {
   "cell_type": "code",
   "execution_count": 8,
   "id": "cb68220e",
   "metadata": {},
   "outputs": [],
   "source": [
    "mm.generate_variants_sampler(10)"
   ]
  },
  {
   "cell_type": "code",
   "execution_count": 9,
   "id": "62e03861",
   "metadata": {},
   "outputs": [],
   "source": [
    "mm.measure_variants(reps=10,run_id=1,bSlrum=True)"
   ]
  },
  {
   "cell_type": "code",
   "execution_count": 10,
   "id": "c4a05b78",
   "metadata": {},
   "outputs": [
    {
     "data": {
      "text/plain": [
       "{'r': []}"
      ]
     },
     "execution_count": 10,
     "metadata": {},
     "output_type": "execute_result"
    }
   ],
   "source": [
    "mm.dml.slrum_running_jobs"
   ]
  },
  {
   "cell_type": "code",
   "execution_count": 11,
   "id": "b6c394dc",
   "metadata": {},
   "outputs": [],
   "source": [
    "mm.check_completed_slrum_jobs()"
   ]
  },
  {
   "cell_type": "code",
   "execution_count": 12,
   "id": "1009c17a",
   "metadata": {},
   "outputs": [
    {
     "data": {
      "text/plain": [
       "{'24T': {'1000_10': ['1'],\n",
       "  '100_100': ['1'],\n",
       "  '300_300': ['1'],\n",
       "  '500_500': ['1'],\n",
       "  '1000_1000': ['1'],\n",
       "  '1500_1500': ['1'],\n",
       "  '10_10': ['1'],\n",
       "  '50_50': ['1'],\n",
       "  '70_70': ['1'],\n",
       "  '223_47': ['1'],\n",
       "  '451_14': ['1'],\n",
       "  '13_440': ['1'],\n",
       "  '35_914': ['1'],\n",
       "  '48_486': ['1'],\n",
       "  '918_70': ['1'],\n",
       "  '13_1381': ['1'],\n",
       "  '438_48': ['1'],\n",
       "  '1204_278': ['1'],\n",
       "  '744_530': ['1'],\n",
       "  '10_1000': ['1']}}"
      ]
     },
     "execution_count": 12,
     "metadata": {},
     "output_type": "execute_result"
    }
   ],
   "source": [
    "dml.measurements_data"
   ]
  },
  {
   "cell_type": "code",
   "execution_count": null,
   "id": "02dae3a5",
   "metadata": {},
   "outputs": [],
   "source": []
  }
 ],
 "metadata": {
  "kernelspec": {
   "display_name": "Python 3 (ipykernel)",
   "language": "python",
   "name": "python3"
  },
  "language_info": {
   "codemirror_mode": {
    "name": "ipython",
    "version": 3
   },
   "file_extension": ".py",
   "mimetype": "text/x-python",
   "name": "python",
   "nbconvert_exporter": "python",
   "pygments_lexer": "ipython3",
   "version": "3.9.7"
  }
 },
 "nbformat": 4,
 "nbformat_minor": 5
}

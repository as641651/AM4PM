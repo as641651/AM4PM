{
 "cells": [
  {
   "cell_type": "code",
   "execution_count": 1,
   "id": "1b72c2a0",
   "metadata": {},
   "outputs": [],
   "source": [
    "import os\n",
    "import pandas as pd\n",
    "from am4pa.linnea import LinneaConfig, MeasurementsLinnea\n",
    "import json"
   ]
  },
  {
   "cell_type": "code",
   "execution_count": 12,
   "id": "83a973de",
   "metadata": {},
   "outputs": [],
   "source": [
    "linnea_config = LinneaConfig(\"gls.py\",12)\n",
    "linnea_config.set_local_directory(\"codes/GLS12-i0\")\n",
    "linnea_config.setup_backend_details(server=\"login18-1.hpc.itc.rwth-aachen.de\",\n",
    "                                   uname = \"as641651\",\n",
    "                                   init_script=\"~/.analyzer\",\n",
    "                                   backend_root=\"~/PhD/va4algs-exps/\")"
   ]
  },
  {
   "cell_type": "code",
   "execution_count": 13,
   "id": "93160f09",
   "metadata": {},
   "outputs": [],
   "source": [
    "linnea_config.connect_backend()"
   ]
  },
  {
   "cell_type": "code",
   "execution_count": 14,
   "id": "11ba85b4",
   "metadata": {},
   "outputs": [
    {
     "data": {
      "text/plain": [
       "'as641651'"
      ]
     },
     "execution_count": 14,
     "metadata": {},
     "output_type": "execute_result"
    }
   ],
   "source": [
    "linnea_config.uname\n"
   ]
  },
  {
   "cell_type": "code",
   "execution_count": 15,
   "id": "309b0ac0",
   "metadata": {},
   "outputs": [],
   "source": [
    "class DataManagerLinnea:\n",
    "    def __init__(self,linnea_config:LinneaConfig):\n",
    "        self.lc = linnea_config\n",
    "        \n",
    "        self.config = None\n",
    "        self.config_file = os.path.join(self.lc.local_dir, 'config.json')\n",
    "        self.bNew_config = True\n",
    "        self._get_config()\n",
    "            \n",
    "        self.operands_data = None    \n",
    "        self.operands_file = os.path.join(self.lc.local_dir, 'operands.json')\n",
    "        if os.path.exists(self.operands_file):\n",
    "            with open(self.operands_file, 'r') as jf:\n",
    "                self.operands_data = json.load(jf)\n",
    "        elif self.lc.backend:\n",
    "            self._pull_operands_backend()\n",
    "        else:\n",
    "            ## TODO:\n",
    "            self.operands_data = {}\n",
    "            \n",
    "        self.mls = {}\n",
    "        for thread_str,op_list in self.operands_data.items():\n",
    "            self.mls[thread_str] = {}\n",
    "            thread = thread_str.split('T')[0]\n",
    "            for op in op_list:\n",
    "                self.mls[thread_str][op] = MeasurementsLinnea(self.lc, op.split(\"_\"),thread)\n",
    "                self.mls[thread_str][op].gather_all_variants()\n",
    "                \n",
    "                \n",
    "        self.measurements_data = None\n",
    "        self.measurements_file = os.path.join(self.lc.local_dir, 'measurements.json')\n",
    "        if os.path.exists(self.measurements_file):\n",
    "            with open(self.measurements_file, 'r') as jf:\n",
    "                self.measurements_data = json.load(jf)\n",
    "        elif self.lc.backend:\n",
    "            self._pull_measurement_ids_backend()\n",
    "        else:\n",
    "            ##TODO\n",
    "            self.measurements_data = {}\n",
    "            \n",
    "                    \n",
    "             \n",
    "    def _get_config(self):\n",
    "   \n",
    "        if os.path.exists(self.config_file):\n",
    "            with open(self.config_file, 'r') as jf:\n",
    "                self.config = json.load(jf)\n",
    "            self._sanity_check()\n",
    "            self.bNew_config = False\n",
    "            \n",
    "        else:\n",
    "            self.config = {}\n",
    "            self.config['problem'] = self.lc.problem_file\n",
    "            self.config['backend'] = self.lc.backend\n",
    "            self.config['server'] = self.lc.server\n",
    "            self.config['uname'] = self.lc.uname\n",
    "            self.config['local_dir'] = self.lc.local_dir\n",
    "            \n",
    "            self.lc.sync_local_and_backend()\n",
    "            if self.lc.check_backend_folder_sync():\n",
    "                self.config['backend_dir'] = self.lc.backend_dir\n",
    "            else:\n",
    "                self.config['backend_dir'] = 'Unsynced'\n",
    "                \n",
    "            self._update_json(self.config,self.config_file)\n",
    "                \n",
    "        print(self.config)\n",
    "        \n",
    "    def _sanity_check(self):\n",
    "        \n",
    "        msg = \"This directory contains probelm with\"\n",
    "        \n",
    "        assert self.config['backend'] == self.lc.backend, msg + \" backend connected \"\n",
    "        \n",
    "        if self.lc.backend:\n",
    "            assert self.config['uname'] == self.lc.uname, msg + \" backend uname {}\".format(self.lc.uname)\n",
    "            assert self.config['server'] == self.lc.server, msg + \" backend server {}\".format(self.lc.server)\n",
    "            assert self.config['backend_dir'] == self.lc.backend_dir, msg + \" backend dir {}\".format(self.lc.backend_dir)\n",
    "                    \n",
    "\n",
    "    def _pull_operands_backend(self):\n",
    "        \n",
    "        assert self.lc.backend == True, \"requires backend\"\n",
    "        \n",
    "        exp_dir = os.path.join(self.lc.backend_dir, \"experiments\")\n",
    "        data = {}\n",
    "        \n",
    "        if self.lc.bm.check_if_dir_exists(exp_dir):\n",
    "            print(\"Experiments Directory {} exists at backend\".format(exp_dir))\n",
    "            cmd = 'ls {}'.format(exp_dir)\n",
    "            ret, _ = self.lc.bm.run_cmd(cmd)\n",
    "            threads = ret.readlines()\n",
    "            \n",
    "            for t in threads:\n",
    "                t_dir = t.strip() \n",
    "                data[t_dir] = []\n",
    "            \n",
    "                cmd = 'ls {}'.format(os.path.join(exp_dir, t_dir))\n",
    "                ret, _ = self.lc.bm.run_cmd(cmd)\n",
    "                ops = ret.readlines()\n",
    "                for op in ops:\n",
    "                    data[t_dir].append(op.strip())\n",
    "               \n",
    "            self._update_json(data,self.operands_file)\n",
    "                                     \n",
    "        self.operands_data = data\n",
    "        \n",
    "        \n",
    "    def _pull_measurement_ids_backend(self):\n",
    "        \n",
    "        assert self.lc.backend == True, \"requires backend\"\n",
    "        exp_dir = os.path.join(self.lc.backend_dir, \"experiments\")\n",
    "        \n",
    "        data = {}\n",
    "        if not self.lc.bm.check_if_dir_exists(exp_dir):\n",
    "            self.measurements_data = data\n",
    "            return\n",
    "            \n",
    "        for thread_str, op_sizes in self.operands_data.items():\n",
    "            data[thread_str] = {}\n",
    "            for op in op_sizes:\n",
    "                \n",
    "                cmd = 'ls {}/run_times_competing_*'.format(self.mls[thread_str][op].runner.operands_dir)\n",
    "                ret, _ = self.lc.bm.run_cmd(cmd)\n",
    "                runs = ret.readlines()\n",
    "                if runs:\n",
    "                    data[thread_str][op] = []\n",
    "                    for run in runs:\n",
    "                        run_id = run.split('_')[-1].split('.csv')[0]\n",
    "                        data[thread_str][op].append(run_id)\n",
    "                    \n",
    "        \n",
    "        if data:\n",
    "            self._update_json(data, self.measurements_file)\n",
    "            \n",
    "        self.measurements_data = data\n",
    "                            \n",
    "    \n",
    "    def _update_json(self,data,file_):\n",
    "        with open(file_,'w') as jf:\n",
    "            json.dump(data,jf)\n",
    "    \n",
    "    def generate_variants(self, thread, op_size):\n",
    "        thread_str = '{}T'.format(thread)\n",
    "        if not thread_str in self.mls:\n",
    "            self.mls[thread_str] = {}\n",
    "            \n",
    "        ml = MeasurementsLinnea(self.lc, op_size.split(\"_\"),thread)\n",
    "        ml.generate_variants()\n",
    "        if self.lc.bm.check_if_dir_exists(ml.runner.operands_dir):\n",
    "            if not thread_str in self.operands_data:\n",
    "                self.operands_data[thread_str] = []\n",
    "            if not op_size in self.operands_data[thread_str]:\n",
    "                self.operands_data[thread_str].append(op_size)\n",
    "                self._update_json(self.operands_data,self.operands_file)\n",
    "            ml.data_collector.delete_local_data()\n",
    "            ml.gather_all_variants()\n",
    "            \n",
    "            bDirty = False\n",
    "            if not thread_str in self.measurements_data:\n",
    "                self.measurements_data[thread_str] = {}\n",
    "                bDirty = True\n",
    "            elif op_size in self.measurements_data[thread_str]:\n",
    "                del self.measurements_data[thread_str][op_size]\n",
    "                bDirty = True\n",
    "            if bDirty:\n",
    "                self._update_json(self.measurements_data,self.measurements_file)\n",
    "            \n",
    "            self.mls[thread_str][op_size] = ml\n",
    "        \n",
    "    def measure_variants(self, thread,op_size,reps,run_id):\n",
    "        thread_str = '{}T'.format(thread)\n",
    "        try:\n",
    "            ml = self.mls[thread_str][op_size]\n",
    "            ml.measure(reps,run_id)\n",
    "            if not op_size in self.measurements_data[thread_str]:\n",
    "                self.measurements_data[thread_str][op_size] = []\n",
    "            if not run_id in self.measurements_data[thread_str][op_size]:\n",
    "                self.measurements_data[thread_str][op_size].append(str(run_id))\n",
    "                self._update_json(self.measurements_data, self.measurements_file)\n",
    "            ml.data_collector.delete_local_competing_measurements_by_id(run_id)\n",
    "        except KeyError:\n",
    "            print(\"First Generate variants for the said thread and op_Size\")\n",
    "            \n",
    "    def delete_measurements(self,thread,op_size,run_id):\n",
    "        thread_str = '{}T'.format(thread)\n",
    "        try:\n",
    "            ml = self.mls[thread_str][op_size]\n",
    "            ml.data_collector.delete_competing_measurements_by_id(run_id)\n",
    "            if str(run_id) in self.measurements_data[thread_str][op_size]:\n",
    "                self.measurements_data[thread_str][op_size].remove(str(run_id))\n",
    "                self._update_json(self.measurements_data, self.measurements_file)\n",
    "        except KeyError:\n",
    "            print(\"First Generate and measure variants for the said thread and op_Size\")\n",
    "                \n",
    "        "
   ]
  },
  {
   "cell_type": "code",
   "execution_count": 16,
   "id": "139ef510",
   "metadata": {},
   "outputs": [
    {
     "name": "stdout",
     "output_type": "stream",
     "text": [
      "scp -r codes/GLS12-i0 as641651@login18-1.hpc.itc.rwth-aachen.de:~/PhD/va4algs-exps/\n",
      "b''\n",
      "{'problem': 'gls.py', 'backend': True, 'server': 'login18-1.hpc.itc.rwth-aachen.de', 'uname': 'as641651', 'local_dir': 'codes/GLS12-i0', 'backend_dir': '~/PhD/va4algs-exps/GLS12-i0'}\n",
      "Experiments Directory ~/PhD/va4algs-exps/GLS12-i0/experiments exists at backend\n",
      "ls ~/PhD/va4algs-exps/GLS12-i0/experiments\n",
      "ls ~/PhD/va4algs-exps/GLS12-i0/experiments/10T\n",
      "ls ~/PhD/va4algs-exps/GLS12-i0/experiments/12T\n",
      "scp as641651@login18-1.hpc.itc.rwth-aachen.de:~/PhD/va4algs-exps/GLS12-i0/experiments/10T/150_200/case_table.csv codes/GLS12-i0/cluster-data/10T/150_200\n",
      "b''\n",
      "scp as641651@login18-1.hpc.itc.rwth-aachen.de:~/PhD/va4algs-exps/GLS12-i0/experiments/10T/200_200/case_table.csv codes/GLS12-i0/cluster-data/10T/200_200\n",
      "b''\n",
      "scp as641651@login18-1.hpc.itc.rwth-aachen.de:~/PhD/va4algs-exps/GLS12-i0/experiments/12T/100_100/case_table.csv codes/GLS12-i0/cluster-data/12T/100_100\n",
      "b''\n",
      "scp as641651@login18-1.hpc.itc.rwth-aachen.de:~/PhD/va4algs-exps/GLS12-i0/experiments/12T/200_200/case_table.csv codes/GLS12-i0/cluster-data/12T/200_200\n",
      "b''\n",
      "ls ~/PhD/va4algs-exps/GLS12-i0/experiments/10T/150_200/run_times_competing_*\n",
      "Error:  1\n",
      "ls ~/PhD/va4algs-exps/GLS12-i0/experiments/10T/200_200/run_times_competing_*\n",
      "ls ~/PhD/va4algs-exps/GLS12-i0/experiments/12T/100_100/run_times_competing_*\n",
      "ls ~/PhD/va4algs-exps/GLS12-i0/experiments/12T/200_200/run_times_competing_*\n",
      "Error:  1\n"
     ]
    }
   ],
   "source": [
    "dml = DataManagerLinnea(linnea_config)"
   ]
  },
  {
   "cell_type": "code",
   "execution_count": 17,
   "id": "cc7513c7",
   "metadata": {},
   "outputs": [
    {
     "data": {
      "text/plain": [
       "{'problem': 'gls.py',\n",
       " 'backend': True,\n",
       " 'server': 'login18-1.hpc.itc.rwth-aachen.de',\n",
       " 'uname': 'as641651',\n",
       " 'local_dir': 'codes/GLS12-i0',\n",
       " 'backend_dir': '~/PhD/va4algs-exps/GLS12-i0'}"
      ]
     },
     "execution_count": 17,
     "metadata": {},
     "output_type": "execute_result"
    }
   ],
   "source": [
    "dml.config"
   ]
  },
  {
   "cell_type": "code",
   "execution_count": 18,
   "id": "f2a73bdc",
   "metadata": {},
   "outputs": [
    {
     "data": {
      "text/plain": [
       "True"
      ]
     },
     "execution_count": 18,
     "metadata": {},
     "output_type": "execute_result"
    }
   ],
   "source": [
    "dml.bNew_config"
   ]
  },
  {
   "cell_type": "code",
   "execution_count": 19,
   "id": "912c89c0",
   "metadata": {},
   "outputs": [
    {
     "data": {
      "text/plain": [
       "{'10T': ['150_200', '200_200'], '12T': ['100_100', '200_200']}"
      ]
     },
     "execution_count": 19,
     "metadata": {},
     "output_type": "execute_result"
    }
   ],
   "source": [
    "dml.operands_data"
   ]
  },
  {
   "cell_type": "code",
   "execution_count": 20,
   "id": "0a74aa8c",
   "metadata": {},
   "outputs": [
    {
     "data": {
      "text/plain": [
       "'codes/GLS12-i0/cluster-data/10T/200_200'"
      ]
     },
     "execution_count": 20,
     "metadata": {},
     "output_type": "execute_result"
    }
   ],
   "source": [
    "dml.mls['10T']['200_200'].data_collector.local_data_dir"
   ]
  },
  {
   "cell_type": "code",
   "execution_count": 21,
   "id": "bdc62ae8",
   "metadata": {},
   "outputs": [
    {
     "data": {
      "text/plain": [
       "{'10T': {'200_200': ['1']}, '12T': {'100_100': ['1']}}"
      ]
     },
     "execution_count": 21,
     "metadata": {},
     "output_type": "execute_result"
    }
   ],
   "source": [
    "dml.measurements_data"
   ]
  },
  {
   "cell_type": "code",
   "execution_count": 61,
   "id": "3ba2ddb9",
   "metadata": {},
   "outputs": [
    {
     "name": "stdout",
     "output_type": "stream",
     "text": [
      "source ~/.analyzer; cd ~/PhD/va4algs-exps/GLS12-i0; python generate-variants-linnea.py 200 200 --threads=10\n",
      "['New solution:.............5.41e+06\\n', 'No further generation steps possible.\\n', '----------------------------------\\n', 'Number of nodes:                10\\n', 'Solution nodes:                  1\\n', 'Data:                     4.04e+04\\n', 'Best solution:            5.41e+06\\n', 'Intensity:                     134\\n', 'Number of algorithms:            3\\n', 'Generated Variants.\\n']\n",
      "\u001b[92mSuccess: Backend interactive run: Generate variants\u001b[0m\n",
      "removing  linnea/GLS12-i0/cluster-data/10T/200_200/case_table.csv\n",
      "scp as641651@login18-1.hpc.itc.rwth-aachen.de:~/PhD/va4algs-exps/GLS12-i0/experiments/10T/200_200/case_table.csv linnea/GLS12-i0/cluster-data/10T/200_200\n",
      "b''\n"
     ]
    }
   ],
   "source": [
    "dml.generate_variants(10,'200_200')"
   ]
  },
  {
   "cell_type": "code",
   "execution_count": 62,
   "id": "e727f7e9",
   "metadata": {},
   "outputs": [
    {
     "data": {
      "text/plain": [
       "{'10T': {}, '12T': {'100_100': ['1']}}"
      ]
     },
     "execution_count": 62,
     "metadata": {},
     "output_type": "execute_result"
    }
   ],
   "source": [
    "dml.measurements_data"
   ]
  },
  {
   "cell_type": "code",
   "execution_count": 63,
   "id": "9c963708",
   "metadata": {},
   "outputs": [
    {
     "name": "stdout",
     "output_type": "stream",
     "text": [
      "source ~/.analyzer; cd ~/PhD/va4algs-exps/GLS12-i0/experiments/10T/200_200; python generate-measurements-script.py --algs algorithm0 algorithm2 algorithm1 --rep 5 --threads 10 --id 1\n",
      "[]\n",
      "\u001b[92mSuccess: Backend interactive run: Generate Measurement script 1\u001b[0m\n",
      "Running Measurements Backend interactive\n",
      "source ~/.analyzer; cd ~/PhD/va4algs-exps/GLS12-i0/experiments/10T/200_200; julia runner_competing_1.jl \n",
      "[]\n",
      "\u001b[92mSuccess: Backend interactive run: Measurements from runner_competing_1.jl\u001b[0m\n",
      "scp as641651@login18-1.hpc.itc.rwth-aachen.de:~/PhD/va4algs-exps/GLS12-i0/experiments/10T/200_200/run_times_competing_1.csv linnea/GLS12-i0/cluster-data/10T/200_200\n",
      "b''\n"
     ]
    }
   ],
   "source": [
    "dml.measure_variants(10,'200_200',5,1)"
   ]
  },
  {
   "cell_type": "code",
   "execution_count": 64,
   "id": "6e636f39",
   "metadata": {},
   "outputs": [
    {
     "data": {
      "text/plain": [
       "{'10T': {'200_200': ['1']}, '12T': {'100_100': ['1']}}"
      ]
     },
     "execution_count": 64,
     "metadata": {},
     "output_type": "execute_result"
    }
   ],
   "source": [
    "dml.measurements_data"
   ]
  },
  {
   "cell_type": "code",
   "execution_count": 65,
   "id": "c7fb40c6",
   "metadata": {},
   "outputs": [
    {
     "name": "stdout",
     "output_type": "stream",
     "text": [
      "source ~/.analyzer; cd ~/PhD/va4algs-exps/GLS12-i0/experiments/10T/200_200; python generate-measurements-script.py --algs algorithm0 algorithm2 algorithm1 --rep 5 --threads 10 --id 2\n",
      "[]\n",
      "\u001b[92mSuccess: Backend interactive run: Generate Measurement script 2\u001b[0m\n",
      "Running Measurements Backend interactive\n",
      "source ~/.analyzer; cd ~/PhD/va4algs-exps/GLS12-i0/experiments/10T/200_200; julia runner_competing_2.jl \n",
      "[]\n",
      "\u001b[92mSuccess: Backend interactive run: Measurements from runner_competing_2.jl\u001b[0m\n",
      "scp as641651@login18-1.hpc.itc.rwth-aachen.de:~/PhD/va4algs-exps/GLS12-i0/experiments/10T/200_200/run_times_competing_2.csv linnea/GLS12-i0/cluster-data/10T/200_200\n",
      "b''\n"
     ]
    }
   ],
   "source": [
    "dml.measure_variants(10,'200_200',5,2)"
   ]
  },
  {
   "cell_type": "code",
   "execution_count": 66,
   "id": "571925e4",
   "metadata": {},
   "outputs": [
    {
     "data": {
      "text/plain": [
       "{'10T': {'200_200': ['1', '2']}, '12T': {'100_100': ['1']}}"
      ]
     },
     "execution_count": 66,
     "metadata": {},
     "output_type": "execute_result"
    }
   ],
   "source": [
    "dml.measurements_data"
   ]
  },
  {
   "cell_type": "code",
   "execution_count": 67,
   "id": "298ff02f",
   "metadata": {},
   "outputs": [
    {
     "name": "stdout",
     "output_type": "stream",
     "text": [
      "rm -rf ~/PhD/va4algs-exps/GLS12-i0/experiments/10T/200_200/run_times_competing_2.csv\n"
     ]
    }
   ],
   "source": [
    "dml.delete_measurements(10,'200_200',2)"
   ]
  },
  {
   "cell_type": "code",
   "execution_count": 68,
   "id": "b117dcff",
   "metadata": {},
   "outputs": [
    {
     "data": {
      "text/plain": [
       "{'10T': {'200_200': ['1']}, '12T': {'100_100': ['1']}}"
      ]
     },
     "execution_count": 68,
     "metadata": {},
     "output_type": "execute_result"
    }
   ],
   "source": [
    "dml.measurements_data"
   ]
  },
  {
   "cell_type": "code",
   "execution_count": 109,
   "id": "6d5718b0",
   "metadata": {},
   "outputs": [],
   "source": [
    "linnea_config3 = LinneaConfig(\"gls.py\",12)\n",
    "linnea_config3.set_local_directory(\"codes/GLS12-i3\")\n",
    "linnea_config3.setup_backend_details(server=\"login18-1.hpc.itc.rwth-aachen.de\",\n",
    "                                   uname = \"as641651\",\n",
    "                                   init_script=\"~/.analyzer\",\n",
    "                                   backend_root=\"~/PhD/va4algs-exps/\")"
   ]
  },
  {
   "cell_type": "code",
   "execution_count": 110,
   "id": "6fa9c200",
   "metadata": {},
   "outputs": [],
   "source": [
    "linnea_config3.connect_backend()"
   ]
  },
  {
   "cell_type": "code",
   "execution_count": 111,
   "id": "8967f6fa",
   "metadata": {},
   "outputs": [
    {
     "name": "stdout",
     "output_type": "stream",
     "text": [
      "scp -r linnea/GLS12-i3 as641651@login18-1.hpc.itc.rwth-aachen.de:~/PhD/va4algs-exps/\n",
      "b''\n",
      "{'problem': 'gls.py', 'backend': True, 'server': 'login18-1.hpc.itc.rwth-aachen.de', 'uname': 'as641651', 'local_dir': 'linnea/GLS12-i3', 'backend_dir': '~/PhD/va4algs-exps/GLS12-i3'}\n",
      "Experiments Directory ~/PhD/va4algs-exps/GLS12-i3/experiments exists at backend\n",
      "ls ~/PhD/va4algs-exps/GLS12-i3/experiments\n",
      "ls ~/PhD/va4algs-exps/GLS12-i3/experiments/10T\n",
      "scp as641651@login18-1.hpc.itc.rwth-aachen.de:~/PhD/va4algs-exps/GLS12-i3/experiments/10T/200_200/case_table.csv linnea/GLS12-i3/cluster-data/10T/200_200\n",
      "b''\n",
      "ls ~/PhD/va4algs-exps/GLS12-i3/experiments/10T/200_200/run_times_competing_*\n",
      "Error:  1\n"
     ]
    }
   ],
   "source": [
    "dml3 = DataManagerLinnea(linnea_config3)"
   ]
  },
  {
   "cell_type": "code",
   "execution_count": 112,
   "id": "41ccf43a",
   "metadata": {},
   "outputs": [
    {
     "data": {
      "text/plain": [
       "{'10T': ['200_200']}"
      ]
     },
     "execution_count": 112,
     "metadata": {},
     "output_type": "execute_result"
    }
   ],
   "source": [
    "dml3.operands_data"
   ]
  },
  {
   "cell_type": "code",
   "execution_count": 113,
   "id": "d3ed089d",
   "metadata": {},
   "outputs": [
    {
     "data": {
      "text/plain": [
       "{'10T': {}}"
      ]
     },
     "execution_count": 113,
     "metadata": {},
     "output_type": "execute_result"
    }
   ],
   "source": [
    "dml3.measurements_data"
   ]
  },
  {
   "cell_type": "code",
   "execution_count": 106,
   "id": "ed79957f",
   "metadata": {},
   "outputs": [
    {
     "name": "stdout",
     "output_type": "stream",
     "text": [
      "source ~/.analyzer; cd ~/PhD/va4algs-exps/GLS12-i3; python generate-variants-linnea.py 200 200 --threads=10\n",
      "['New solution:.............5.41e+06\\n', 'No further generation steps possible.\\n', '----------------------------------\\n', 'Number of nodes:                10\\n', 'Solution nodes:                  1\\n', 'Data:                     4.04e+04\\n', 'Best solution:            5.41e+06\\n', 'Intensity:                     134\\n', 'Number of algorithms:            3\\n', 'Generated Variants.\\n']\n",
      "\u001b[92mSuccess: Backend interactive run: Generate variants\u001b[0m\n",
      "scp as641651@login18-1.hpc.itc.rwth-aachen.de:~/PhD/va4algs-exps/GLS12-i3/experiments/10T/200_200/case_table.csv linnea/GLS12-i3/cluster-data/10T/200_200\n",
      "b''\n"
     ]
    }
   ],
   "source": [
    "dml3.generate_variants(10,'200_200')"
   ]
  },
  {
   "cell_type": "code",
   "execution_count": 107,
   "id": "e8894cff",
   "metadata": {},
   "outputs": [
    {
     "data": {
      "text/plain": [
       "{'10T': ['200_200']}"
      ]
     },
     "execution_count": 107,
     "metadata": {},
     "output_type": "execute_result"
    }
   ],
   "source": [
    "dml3.operands_data"
   ]
  },
  {
   "cell_type": "code",
   "execution_count": 108,
   "id": "65ca4514",
   "metadata": {},
   "outputs": [
    {
     "data": {
      "text/plain": [
       "{'10T': {}}"
      ]
     },
     "execution_count": 108,
     "metadata": {},
     "output_type": "execute_result"
    }
   ],
   "source": [
    "dml3.measurements_data"
   ]
  },
  {
   "cell_type": "code",
   "execution_count": 72,
   "id": "cdd0dfb5",
   "metadata": {},
   "outputs": [],
   "source": [
    "linnea_config2 = LinneaConfig(\"gls.py\",4)\n",
    "linnea_config2.set_local_directory(\"codes/GLS4-i1\")"
   ]
  },
  {
   "cell_type": "code",
   "execution_count": 73,
   "id": "8ed78bf3",
   "metadata": {},
   "outputs": [
    {
     "name": "stdout",
     "output_type": "stream",
     "text": [
      "{'problem': 'gls.py', 'backend': False, 'server': '', 'uname': '', 'local_dir': 'linnea/GLS4-i1', 'backend_dir': 'Unsynced'}\n"
     ]
    }
   ],
   "source": [
    "dml2 = DataManagerLinnea(linnea_config2)"
   ]
  },
  {
   "cell_type": "code",
   "execution_count": 74,
   "id": "5d799ef6",
   "metadata": {},
   "outputs": [
    {
     "data": {
      "text/plain": [
       "{'problem': 'gls.py',\n",
       " 'backend': False,\n",
       " 'server': '',\n",
       " 'uname': '',\n",
       " 'local_dir': 'linnea/GLS4-i1',\n",
       " 'backend_dir': 'Unsynced'}"
      ]
     },
     "execution_count": 74,
     "metadata": {},
     "output_type": "execute_result"
    }
   ],
   "source": [
    "dml2.config"
   ]
  },
  {
   "cell_type": "code",
   "execution_count": 75,
   "id": "5e8a1a6a",
   "metadata": {},
   "outputs": [
    {
     "data": {
      "text/plain": [
       "False"
      ]
     },
     "execution_count": 75,
     "metadata": {},
     "output_type": "execute_result"
    }
   ],
   "source": [
    "dml2.bNew_config"
   ]
  },
  {
   "cell_type": "code",
   "execution_count": null,
   "id": "599349df",
   "metadata": {},
   "outputs": [],
   "source": []
  }
 ],
 "metadata": {
  "kernelspec": {
   "display_name": "Python 3 (ipykernel)",
   "language": "python",
   "name": "python3"
  },
  "language_info": {
   "codemirror_mode": {
    "name": "ipython",
    "version": 3
   },
   "file_extension": ".py",
   "mimetype": "text/x-python",
   "name": "python",
   "nbconvert_exporter": "python",
   "pygments_lexer": "ipython3",
   "version": "3.9.7"
  }
 },
 "nbformat": 4,
 "nbformat_minor": 5
}

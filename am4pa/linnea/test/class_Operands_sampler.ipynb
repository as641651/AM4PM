{
 "cells": [
  {
   "cell_type": "code",
   "execution_count": 5,
   "id": "b6bc9914",
   "metadata": {},
   "outputs": [],
   "source": [
    "import random"
   ]
  },
  {
   "cell_type": "code",
   "execution_count": 351,
   "id": "f275ade1",
   "metadata": {},
   "outputs": [],
   "source": [
    "class OperandsSamplerBase:\n",
    "    def __init__(self,num_operands):\n",
    "        self.n = num_operands\n",
    "        \n",
    "    def sample(self):\n",
    "         raise NotImplementedError(\"Subclass must implement abstract method\")\n",
    "            \n",
    "    def get_operands_basics(self):\n",
    "        ops_list = []\n",
    "        \n",
    "        for i in range(self.n):\n",
    "            ops = [1000]*self.n\n",
    "            ops[i] = 10\n",
    "            ops_list.append(ops)\n",
    "            \n",
    "        for i in range(self.n):\n",
    "            ops = [10]*self.n\n",
    "            ops[i] = 1000\n",
    "            ops_list.append(ops)\n",
    "        \n",
    "        \n",
    "        xx = [100,300,500,1000,1500]\n",
    "        \n",
    "        for x in xx:\n",
    "            ops = [x]*self.n\n",
    "            ops_list.append(ops)\n",
    "            \n",
    "        yy = [10,50,70]\n",
    "        for y in yy:\n",
    "            ops = [y]*self.n\n",
    "            ops_list.append(ops)\n",
    "        \n",
    "        return ops_list\n",
    "        \n",
    "        "
   ]
  },
  {
   "cell_type": "code",
   "execution_count": 352,
   "id": "70fa021d",
   "metadata": {},
   "outputs": [],
   "source": [
    "class OperandsSamplerCorner(OperandsSamplerBase):\n",
    "    def __init__(self,num_operands, max_op_size, corner,p_corner,seed=108):\n",
    "        super().__init__(num_operands)\n",
    "        self.seed = seed\n",
    "        self.max_op = max_op_size\n",
    "        self.corner = corner\n",
    "        \n",
    "        assert 0<= p_corner <=1, \"p_corner should be between 0 and 1\"\n",
    "        assert 1 <= corner <=0.1*max_op_size, \"corner should be an integer val between 0 and 10 percernt of max op size\"\n",
    "        \n",
    "        self.p = p_corner\n",
    "        random.seed(self.seed)\n",
    "        \n",
    "    def sample(self):\n",
    "        \n",
    "        p1 = random.random()\n",
    "        if p1 < self.p:\n",
    "            ops = self.sample_corner()\n",
    "        else:\n",
    "            p3 = random.random()\n",
    "            if p3 < 0.8: \n",
    "                ops = self.sample_normal_1()\n",
    "            else:\n",
    "                ops = self.sample_normal_2()\n",
    "            \n",
    "        return ops\n",
    "    \n",
    "    def sample_corner(self):\n",
    "        ops = self.sample_normal_1()\n",
    "        idx = random.sample(range(self.n),1)[0]\n",
    "        ops[idx] = random.randint(1,self.corner)\n",
    "        return ops\n",
    "        \n",
    "    def sample_normal_1(self):\n",
    "        ops = []\n",
    "        for i in range(self.n):\n",
    "            ops.append(random.randint(self.corner,self.max_op))\n",
    "        return ops\n",
    "    \n",
    "    def sample_normal_2(self):\n",
    "        ops = []\n",
    "        for i in range(self.n):\n",
    "            ops.append(random.randint(1,self.max_op))\n",
    "        return ops"
   ]
  },
  {
   "cell_type": "code",
   "execution_count": 370,
   "id": "7f963685",
   "metadata": {},
   "outputs": [],
   "source": [
    "osc = OperandsSamplerCorner(4,2000,50,0.5)"
   ]
  },
  {
   "cell_type": "code",
   "execution_count": 371,
   "id": "d1d19c9b",
   "metadata": {},
   "outputs": [
    {
     "data": {
      "text/plain": [
       "[[10, 1000, 1000, 1000],\n",
       " [1000, 10, 1000, 1000],\n",
       " [1000, 1000, 10, 1000],\n",
       " [1000, 1000, 1000, 10],\n",
       " [1000, 10, 10, 10],\n",
       " [10, 1000, 10, 10],\n",
       " [10, 10, 1000, 10],\n",
       " [10, 10, 10, 1000],\n",
       " [100, 100, 100, 100],\n",
       " [300, 300, 300, 300],\n",
       " [500, 500, 500, 500],\n",
       " [1000, 1000, 1000, 1000],\n",
       " [1500, 1500, 1500, 1500],\n",
       " [10, 10, 10, 10],\n",
       " [50, 50, 50, 50],\n",
       " [70, 70, 70, 70]]"
      ]
     },
     "execution_count": 371,
     "metadata": {},
     "output_type": "execute_result"
    }
   ],
   "source": [
    "osc.get_operands_basics()"
   ]
  },
  {
   "cell_type": "code",
   "execution_count": 372,
   "id": "cb02a641",
   "metadata": {},
   "outputs": [
    {
     "data": {
      "text/plain": [
       "[1720, 223, 1853, 47]"
      ]
     },
     "execution_count": 372,
     "metadata": {},
     "output_type": "execute_result"
    }
   ],
   "source": [
    "osc.sample()"
   ]
  },
  {
   "cell_type": "code",
   "execution_count": null,
   "id": "3273947a",
   "metadata": {},
   "outputs": [],
   "source": []
  }
 ],
 "metadata": {
  "kernelspec": {
   "display_name": "Python 3 (ipykernel)",
   "language": "python",
   "name": "python3"
  },
  "language_info": {
   "codemirror_mode": {
    "name": "ipython",
    "version": 3
   },
   "file_extension": ".py",
   "mimetype": "text/x-python",
   "name": "python",
   "nbconvert_exporter": "python",
   "pygments_lexer": "ipython3",
   "version": "3.9.7"
  }
 },
 "nbformat": 4,
 "nbformat_minor": 5
}

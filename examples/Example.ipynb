{
 "cells": [
  {
   "cell_type": "code",
   "execution_count": 1,
   "id": "1b8def27",
   "metadata": {},
   "outputs": [],
   "source": [
    "import am4pa"
   ]
  },
  {
   "cell_type": "code",
   "execution_count": 2,
   "id": "fddb9aa8",
   "metadata": {},
   "outputs": [],
   "source": [
    "from am4pa.runners import RunnerVariants\n",
    "from am4pa.runners import ExecuteSubProcess\n",
    "from am4pa.runners import bcolors\n",
    "\n",
    "from am4pa.data_integration import DataCollector\n",
    "\n",
    "from am4pa.data_proccessing import CaseDurationsManager\n",
    "from am4pa.data_proccessing import FilterOnKPIs\n",
    "from am4pa.data_proccessing import get_trace_durations"
   ]
  },
  {
   "cell_type": "markdown",
   "id": "77be0ac1",
   "metadata": {},
   "source": [
    "### Runner:\n",
    "\n",
    "Runners are objects that executes an external command (such as calling a python or julia or bash script).\n",
    "Running the external command outputs a csv file in a format that can be handled by the data_integration sub module. The inputs are the names of the script files that executes the required operation.\n",
    "\n",
    "The execution of the scripts can either be local, in the backend or submitted to a batch system"
   ]
  },
  {
   "cell_type": "markdown",
   "id": "243ff692",
   "metadata": {},
   "source": [
    "#### Input:\n",
    "Implementation that generates and measures variant codes for an input linear algebra expression. The generated code has timestamps inserted before and after the kernel calls.\n",
    "\n"
   ]
  },
  {
   "cell_type": "markdown",
   "id": "bca7be64",
   "metadata": {},
   "source": [
    "## Local Measurements"
   ]
  },
  {
   "cell_type": "markdown",
   "id": "d86fbc78",
   "metadata": {},
   "source": [
    "#### 1. |Generate variants for an instance of a linear algebra expression.\n",
    "\n",
    "An instance refers to an linear algebra expression with a specific operand sizes"
   ]
  },
  {
   "cell_type": "code",
   "execution_count": 3,
   "id": "cde44731",
   "metadata": {},
   "outputs": [],
   "source": [
    "operand_sizes = [\"75\",\"75\",\"6\",\"75\",\"75\"]\n",
    "script_dir = \"sample_generation/\"\n",
    "runner_local = RunnerVariants(operand_sizes, script_dir)"
   ]
  },
  {
   "cell_type": "markdown",
   "id": "ff0b0ed5",
   "metadata": {},
   "source": [
    "Here, ```generate-variants-linnea.py``` is a script file that generates variant codes using the Linnea interface"
   ]
  },
  {
   "cell_type": "code",
   "execution_count": 4,
   "id": "67c24054",
   "metadata": {},
   "outputs": [
    {
     "name": "stdout",
     "output_type": "stream",
     "text": [
      "['python', 'sample_generation/generate-variants-linnea.py', '75', '75', '6', '75', '75', '--threads=4']\n",
      "New solution:.............2.02e+05\n",
      "No further generation steps possible.\n",
      "----------------------------------\n",
      "Number of nodes:                 8\n",
      "Solution nodes:                  1\n",
      "Data:                     1.78e+04\n",
      "Best solution:            2.02e+05\n",
      "Intensity:                    11.4\n",
      "Number of algorithms:            6\n",
      "Generated Variants.\n",
      "\u001b[92mSuccess: Local run: Generate variants\u001b[0m\n"
     ]
    },
    {
     "data": {
      "text/plain": [
       "0"
      ]
     },
     "execution_count": 4,
     "metadata": {},
     "output_type": "execute_result"
    }
   ],
   "source": [
    "runner_local.generate_variants_for_measurements(generation_script=\"generate-variants-linnea.py\")"
   ]
  },
  {
   "cell_type": "markdown",
   "id": "d253b92b",
   "metadata": {},
   "source": [
    "#### 2. Measure variants"
   ]
  },
  {
   "cell_type": "markdown",
   "id": "bb06d3f8",
   "metadata": {},
   "source": [
    "Executing ```generate-variants-linnea.py``` creates a subdirectory ```experiments/75_75_6_75_75/```, which consists of the generated code and a number of scripts."
   ]
  },
  {
   "cell_type": "code",
   "execution_count": 15,
   "id": "7f65aaae",
   "metadata": {},
   "outputs": [
    {
     "name": "stdout",
     "output_type": "stream",
     "text": [
      "case_table.csv                  \u001b[34mlogs\u001b[m\u001b[m\r\n",
      "compute-ranks.py                operand_generator.jl\r\n",
      "event_meta_table.csv            runner.jl\r\n",
      "\u001b[34mexperiments\u001b[m\u001b[m                     submit.sh\r\n",
      "generate-measurements-script.py \u001b[34mvariants\u001b[m\u001b[m\r\n"
     ]
    }
   ],
   "source": [
    "!ls sample_generation/experiments/75_75_6_75_75/"
   ]
  },
  {
   "cell_type": "markdown",
   "id": "2bc6c96d",
   "metadata": {},
   "source": [
    "```runner.jl``` is a script that  executes all the variants once and outputs a file ```run_times.csv``` that consists of the run time for each variant."
   ]
  },
  {
   "cell_type": "code",
   "execution_count": 16,
   "id": "325ee6d6",
   "metadata": {},
   "outputs": [
    {
     "name": "stdout",
     "output_type": "stream",
     "text": [
      "Running Measurements locally\n",
      "['julia', 'sample_generation/experiments/75_75_6_75_75/runner.jl']\n",
      "\u001b[92mSuccess: Local run: Measurements from runner.jl\u001b[0m\n"
     ]
    },
    {
     "data": {
      "text/plain": [
       "0"
      ]
     },
     "execution_count": 16,
     "metadata": {},
     "output_type": "execute_result"
    }
   ],
   "source": [
    "runner_local.measure_variants(app=\"julia\", runner_script=\"runner.jl\")"
   ]
  },
  {
   "cell_type": "code",
   "execution_count": 17,
   "id": "23b2093a",
   "metadata": {},
   "outputs": [
    {
     "name": "stdout",
     "output_type": "stream",
     "text": [
      "case_table.csv                  operand_generator.jl\r\n",
      "compute-ranks.py                run_times.csv\r\n",
      "event_meta_table.csv            runner.jl\r\n",
      "\u001b[34mexperiments\u001b[m\u001b[m                     submit.sh\r\n",
      "generate-measurements-script.py \u001b[34mvariants\u001b[m\u001b[m\r\n",
      "\u001b[34mlogs\u001b[m\u001b[m\r\n"
     ]
    }
   ],
   "source": [
    "!ls sample_generation/experiments/75_75_6_75_75/"
   ]
  },
  {
   "cell_type": "markdown",
   "id": "39e3a876",
   "metadata": {},
   "source": [
    "```generate_measurement_scripts.py``` is a file that generates a measurement script with a specific identifier (run_id) that repeats a given set of variant for a said (rep) numnber of times. For instance, the resulting script for identifier 0 is ```runner_competing_0.jl```"
   ]
  },
  {
   "cell_type": "code",
   "execution_count": 18,
   "id": "d2cd1777",
   "metadata": {},
   "outputs": [],
   "source": [
    "measurements_script = \"generate-measurements-script.py\"\n",
    "variants = ['algorithm0', 'algorithm1']\n",
    "reps = 3\n",
    "run_id = 0"
   ]
  },
  {
   "cell_type": "code",
   "execution_count": 19,
   "id": "908ec05b",
   "metadata": {},
   "outputs": [
    {
     "name": "stdout",
     "output_type": "stream",
     "text": [
      "['python', 'sample_generation/experiments/75_75_6_75_75/generate-measurements-script.py', '--algs', 'algorithm0', 'algorithm1', '--rep', '3', '--threads', '4', '--id', '0']\n",
      "\u001b[92mSuccess: Local run: Generate Measurement script 0\u001b[0m\n"
     ]
    },
    {
     "data": {
      "text/plain": [
       "0"
      ]
     },
     "execution_count": 19,
     "metadata": {},
     "output_type": "execute_result"
    }
   ],
   "source": [
    "runner_local.generate_measurements_script(measurements_script, variants, run_id, reps)"
   ]
  },
  {
   "cell_type": "code",
   "execution_count": 20,
   "id": "62a06800",
   "metadata": {},
   "outputs": [
    {
     "name": "stdout",
     "output_type": "stream",
     "text": [
      "case_table.csv                  operand_generator.jl\r\n",
      "compute-ranks.py                run_times.csv\r\n",
      "event_meta_table.csv            runner.jl\r\n",
      "\u001b[34mexperiments\u001b[m\u001b[m                     runner_competing_0.jl\r\n",
      "generate-measurements-script.py submit.sh\r\n",
      "\u001b[34mlogs\u001b[m\u001b[m                            \u001b[34mvariants\u001b[m\u001b[m\r\n"
     ]
    }
   ],
   "source": [
    "!ls sample_generation/experiments/75_75_6_75_75/"
   ]
  },
  {
   "cell_type": "markdown",
   "id": "d107d017",
   "metadata": {},
   "source": [
    "Executing ```runner_competing_0.jl``` measures the variants and outputs a csv file ```run_times_competing_0.csv``` consisting of the execution time measurements"
   ]
  },
  {
   "cell_type": "code",
   "execution_count": 22,
   "id": "f3db1999",
   "metadata": {},
   "outputs": [
    {
     "name": "stdout",
     "output_type": "stream",
     "text": [
      "Running Measurements locally\n",
      "['julia', 'sample_generation/experiments/75_75_6_75_75/runner_competing_0.jl']\n",
      "\u001b[92mSuccess: Local run: Measurements from runner_competing_0.jl\u001b[0m\n"
     ]
    },
    {
     "data": {
      "text/plain": [
       "0"
      ]
     },
     "execution_count": 22,
     "metadata": {},
     "output_type": "execute_result"
    }
   ],
   "source": [
    "runner_competing_script = \"runner_competing_0.jl\"\n",
    "runner_local.measure_variants(app=\"julia\", runner_script=runner_competing_script)"
   ]
  },
  {
   "cell_type": "code",
   "execution_count": 23,
   "id": "dec76255",
   "metadata": {},
   "outputs": [
    {
     "name": "stdout",
     "output_type": "stream",
     "text": [
      "case_table.csv                  run_times.csv\r\n",
      "compute-ranks.py                run_times_competing_0.csv\r\n",
      "event_meta_table.csv            runner.jl\r\n",
      "\u001b[34mexperiments\u001b[m\u001b[m                     runner_competing_0.jl\r\n",
      "generate-measurements-script.py submit.sh\r\n",
      "\u001b[34mlogs\u001b[m\u001b[m                            \u001b[34mvariants\u001b[m\u001b[m\r\n",
      "operand_generator.jl\r\n"
     ]
    }
   ],
   "source": [
    "!ls sample_generation/experiments/75_75_6_75_75/"
   ]
  },
  {
   "cell_type": "markdown",
   "id": "14fb7679",
   "metadata": {},
   "source": [
    "### Data integration\n",
    "\n",
    "This module converts the csv files generated by the runner to pandas data frames.\n",
    "\n",
    "The input is the directory consisting of the csv files"
   ]
  },
  {
   "cell_type": "code",
   "execution_count": 24,
   "id": "29c3fb95",
   "metadata": {},
   "outputs": [],
   "source": [
    "dc_local = DataCollector(\"sample_generation/experiments/75_75_6_75_75/\")"
   ]
  },
  {
   "cell_type": "markdown",
   "id": "943f5f5b",
   "metadata": {},
   "source": [
    "For instance, lets read ```case_table.csv```"
   ]
  },
  {
   "cell_type": "code",
   "execution_count": 26,
   "id": "bb30d59f",
   "metadata": {},
   "outputs": [
    {
     "data": {
      "text/html": [
       "<div>\n",
       "<style scoped>\n",
       "    .dataframe tbody tr th:only-of-type {\n",
       "        vertical-align: middle;\n",
       "    }\n",
       "\n",
       "    .dataframe tbody tr th {\n",
       "        vertical-align: top;\n",
       "    }\n",
       "\n",
       "    .dataframe thead th {\n",
       "        text-align: right;\n",
       "    }\n",
       "</style>\n",
       "<table border=\"1\" class=\"dataframe\">\n",
       "  <thead>\n",
       "    <tr style=\"text-align: right;\">\n",
       "      <th></th>\n",
       "      <th>case:concept:name</th>\n",
       "      <th>case:flops</th>\n",
       "      <th>case:num_kernels</th>\n",
       "    </tr>\n",
       "  </thead>\n",
       "  <tbody>\n",
       "    <tr>\n",
       "      <th>0</th>\n",
       "      <td>algorithm1</td>\n",
       "      <td>202000.0</td>\n",
       "      <td>3</td>\n",
       "    </tr>\n",
       "    <tr>\n",
       "      <th>1</th>\n",
       "      <td>algorithm5</td>\n",
       "      <td>1760000.0</td>\n",
       "      <td>3</td>\n",
       "    </tr>\n",
       "    <tr>\n",
       "      <th>2</th>\n",
       "      <td>algorithm4</td>\n",
       "      <td>1760000.0</td>\n",
       "      <td>3</td>\n",
       "    </tr>\n",
       "    <tr>\n",
       "      <th>3</th>\n",
       "      <td>algorithm0</td>\n",
       "      <td>202000.0</td>\n",
       "      <td>3</td>\n",
       "    </tr>\n",
       "    <tr>\n",
       "      <th>4</th>\n",
       "      <td>algorithm3</td>\n",
       "      <td>979000.0</td>\n",
       "      <td>3</td>\n",
       "    </tr>\n",
       "    <tr>\n",
       "      <th>5</th>\n",
       "      <td>algorithm2</td>\n",
       "      <td>979000.0</td>\n",
       "      <td>3</td>\n",
       "    </tr>\n",
       "  </tbody>\n",
       "</table>\n",
       "</div>"
      ],
      "text/plain": [
       "  case:concept:name  case:flops  case:num_kernels\n",
       "0        algorithm1    202000.0                 3\n",
       "1        algorithm5   1760000.0                 3\n",
       "2        algorithm4   1760000.0                 3\n",
       "3        algorithm0    202000.0                 3\n",
       "4        algorithm3    979000.0                 3\n",
       "5        algorithm2    979000.0                 3"
      ]
     },
     "execution_count": 26,
     "metadata": {},
     "output_type": "execute_result"
    }
   ],
   "source": [
    "dc_local.get_table(\"case_table.csv\")"
   ]
  },
  {
   "cell_type": "markdown",
   "id": "a0fa4f87",
   "metadata": {},
   "source": [
    "```DataCollector``` offers methods to read the files without having to input the file names, provided the file names adhere to the ***PA4Algs*** standards."
   ]
  },
  {
   "cell_type": "code",
   "execution_count": 29,
   "id": "ce2c74a2",
   "metadata": {},
   "outputs": [
    {
     "data": {
      "text/html": [
       "<div>\n",
       "<style scoped>\n",
       "    .dataframe tbody tr th:only-of-type {\n",
       "        vertical-align: middle;\n",
       "    }\n",
       "\n",
       "    .dataframe tbody tr th {\n",
       "        vertical-align: top;\n",
       "    }\n",
       "\n",
       "    .dataframe thead th {\n",
       "        text-align: right;\n",
       "    }\n",
       "</style>\n",
       "<table border=\"1\" class=\"dataframe\">\n",
       "  <thead>\n",
       "    <tr style=\"text-align: right;\">\n",
       "      <th></th>\n",
       "      <th>case:concept:name</th>\n",
       "      <th>case:flops</th>\n",
       "      <th>case:num_kernels</th>\n",
       "    </tr>\n",
       "  </thead>\n",
       "  <tbody>\n",
       "    <tr>\n",
       "      <th>0</th>\n",
       "      <td>algorithm1</td>\n",
       "      <td>202000.0</td>\n",
       "      <td>3</td>\n",
       "    </tr>\n",
       "    <tr>\n",
       "      <th>1</th>\n",
       "      <td>algorithm5</td>\n",
       "      <td>1760000.0</td>\n",
       "      <td>3</td>\n",
       "    </tr>\n",
       "    <tr>\n",
       "      <th>2</th>\n",
       "      <td>algorithm4</td>\n",
       "      <td>1760000.0</td>\n",
       "      <td>3</td>\n",
       "    </tr>\n",
       "    <tr>\n",
       "      <th>3</th>\n",
       "      <td>algorithm0</td>\n",
       "      <td>202000.0</td>\n",
       "      <td>3</td>\n",
       "    </tr>\n",
       "    <tr>\n",
       "      <th>4</th>\n",
       "      <td>algorithm3</td>\n",
       "      <td>979000.0</td>\n",
       "      <td>3</td>\n",
       "    </tr>\n",
       "    <tr>\n",
       "      <th>5</th>\n",
       "      <td>algorithm2</td>\n",
       "      <td>979000.0</td>\n",
       "      <td>3</td>\n",
       "    </tr>\n",
       "  </tbody>\n",
       "</table>\n",
       "</div>"
      ],
      "text/plain": [
       "  case:concept:name  case:flops  case:num_kernels\n",
       "0        algorithm1    202000.0                 3\n",
       "1        algorithm5   1760000.0                 3\n",
       "2        algorithm4   1760000.0                 3\n",
       "3        algorithm0    202000.0                 3\n",
       "4        algorithm3    979000.0                 3\n",
       "5        algorithm2    979000.0                 3"
      ]
     },
     "execution_count": 29,
     "metadata": {},
     "output_type": "execute_result"
    }
   ],
   "source": [
    "case_table = dc_local.get_case_table()\n",
    "case_table"
   ]
  },
  {
   "cell_type": "code",
   "execution_count": 30,
   "id": "2f282318",
   "metadata": {},
   "outputs": [
    {
     "data": {
      "text/html": [
       "<div>\n",
       "<style scoped>\n",
       "    .dataframe tbody tr th:only-of-type {\n",
       "        vertical-align: middle;\n",
       "    }\n",
       "\n",
       "    .dataframe tbody tr th {\n",
       "        vertical-align: top;\n",
       "    }\n",
       "\n",
       "    .dataframe thead th {\n",
       "        text-align: right;\n",
       "    }\n",
       "</style>\n",
       "<table border=\"1\" class=\"dataframe\">\n",
       "  <thead>\n",
       "    <tr style=\"text-align: right;\">\n",
       "      <th></th>\n",
       "      <th>case:concept:name</th>\n",
       "      <th>concept:name</th>\n",
       "      <th>concept:flops</th>\n",
       "      <th>concept:operation</th>\n",
       "      <th>concept:kernel</th>\n",
       "      <th>timestamp:start</th>\n",
       "      <th>timestamp:end</th>\n",
       "    </tr>\n",
       "  </thead>\n",
       "  <tbody>\n",
       "    <tr>\n",
       "      <th>0</th>\n",
       "      <td>algorithm1</td>\n",
       "      <td>gemm_6.75e+04</td>\n",
       "      <td>67500.0</td>\n",
       "      <td>tmp1 = (A B)</td>\n",
       "      <td>gemm!('N', 'N', 1.0, ml0, ml1, 0.0, ml4)</td>\n",
       "      <td>1.658504e+09</td>\n",
       "      <td>1.658504e+09</td>\n",
       "    </tr>\n",
       "    <tr>\n",
       "      <th>1</th>\n",
       "      <td>algorithm1</td>\n",
       "      <td>gemm_6.75e+04</td>\n",
       "      <td>67500.0</td>\n",
       "      <td>tmp3 = (C D)</td>\n",
       "      <td>gemm!('N', 'N', 1.0, ml2, ml3, 0.0, ml5)</td>\n",
       "      <td>1.658504e+09</td>\n",
       "      <td>1.658504e+09</td>\n",
       "    </tr>\n",
       "    <tr>\n",
       "      <th>2</th>\n",
       "      <td>algorithm1</td>\n",
       "      <td>gemm_6.75e+04</td>\n",
       "      <td>67500.0</td>\n",
       "      <td>tmp6 = (tmp1 tmp3)</td>\n",
       "      <td>gemm!('N', 'N', 1.0, ml4, ml5, 0.0, ml6)</td>\n",
       "      <td>1.658504e+09</td>\n",
       "      <td>1.658504e+09</td>\n",
       "    </tr>\n",
       "    <tr>\n",
       "      <th>3</th>\n",
       "      <td>algorithm5</td>\n",
       "      <td>gemm_6.75e+04</td>\n",
       "      <td>67500.0</td>\n",
       "      <td>tmp2 = (B C)</td>\n",
       "      <td>gemm!('N', 'N', 1.0, ml1, ml2, 0.0, ml4)</td>\n",
       "      <td>1.658504e+09</td>\n",
       "      <td>1.658504e+09</td>\n",
       "    </tr>\n",
       "    <tr>\n",
       "      <th>4</th>\n",
       "      <td>algorithm5</td>\n",
       "      <td>gemm_8.44e+05</td>\n",
       "      <td>844000.0</td>\n",
       "      <td>tmp4 = (A tmp2)</td>\n",
       "      <td>gemm!('N', 'N', 1.0, ml0, ml4, 0.0, ml5)</td>\n",
       "      <td>1.658504e+09</td>\n",
       "      <td>1.658504e+09</td>\n",
       "    </tr>\n",
       "    <tr>\n",
       "      <th>5</th>\n",
       "      <td>algorithm5</td>\n",
       "      <td>gemm_8.44e+05</td>\n",
       "      <td>844000.0</td>\n",
       "      <td>tmp6 = (tmp4 D)</td>\n",
       "      <td>gemm!('N', 'N', 1.0, ml5, ml3, 0.0, ml6)</td>\n",
       "      <td>1.658504e+09</td>\n",
       "      <td>1.658504e+09</td>\n",
       "    </tr>\n",
       "    <tr>\n",
       "      <th>6</th>\n",
       "      <td>algorithm4</td>\n",
       "      <td>gemm_6.75e+04</td>\n",
       "      <td>67500.0</td>\n",
       "      <td>tmp2 = (B C)</td>\n",
       "      <td>gemm!('N', 'N', 1.0, ml1, ml2, 0.0, ml4)</td>\n",
       "      <td>1.658504e+09</td>\n",
       "      <td>1.658504e+09</td>\n",
       "    </tr>\n",
       "    <tr>\n",
       "      <th>7</th>\n",
       "      <td>algorithm4</td>\n",
       "      <td>gemm_8.44e+05</td>\n",
       "      <td>844000.0</td>\n",
       "      <td>tmp5 = (tmp2 D)</td>\n",
       "      <td>gemm!('N', 'N', 1.0, ml4, ml3, 0.0, ml5)</td>\n",
       "      <td>1.658504e+09</td>\n",
       "      <td>1.658504e+09</td>\n",
       "    </tr>\n",
       "    <tr>\n",
       "      <th>8</th>\n",
       "      <td>algorithm4</td>\n",
       "      <td>gemm_8.44e+05</td>\n",
       "      <td>844000.0</td>\n",
       "      <td>tmp6 = (A tmp5)</td>\n",
       "      <td>gemm!('N', 'N', 1.0, ml0, ml5, 0.0, ml6)</td>\n",
       "      <td>1.658504e+09</td>\n",
       "      <td>1.658504e+09</td>\n",
       "    </tr>\n",
       "    <tr>\n",
       "      <th>9</th>\n",
       "      <td>algorithm0</td>\n",
       "      <td>gemm_6.75e+04</td>\n",
       "      <td>67500.0</td>\n",
       "      <td>tmp3 = (C D)</td>\n",
       "      <td>gemm!('N', 'N', 1.0, ml2, ml3, 0.0, ml4)</td>\n",
       "      <td>1.658504e+09</td>\n",
       "      <td>1.658504e+09</td>\n",
       "    </tr>\n",
       "    <tr>\n",
       "      <th>10</th>\n",
       "      <td>algorithm0</td>\n",
       "      <td>gemm_6.75e+04</td>\n",
       "      <td>67500.0</td>\n",
       "      <td>tmp1 = (A B)</td>\n",
       "      <td>gemm!('N', 'N', 1.0, ml0, ml1, 0.0, ml5)</td>\n",
       "      <td>1.658504e+09</td>\n",
       "      <td>1.658504e+09</td>\n",
       "    </tr>\n",
       "    <tr>\n",
       "      <th>11</th>\n",
       "      <td>algorithm0</td>\n",
       "      <td>gemm_6.75e+04</td>\n",
       "      <td>67500.0</td>\n",
       "      <td>tmp6 = (tmp1 tmp3)</td>\n",
       "      <td>gemm!('N', 'N', 1.0, ml5, ml4, 0.0, ml6)</td>\n",
       "      <td>1.658504e+09</td>\n",
       "      <td>1.658504e+09</td>\n",
       "    </tr>\n",
       "    <tr>\n",
       "      <th>12</th>\n",
       "      <td>algorithm3</td>\n",
       "      <td>gemm_6.75e+04</td>\n",
       "      <td>67500.0</td>\n",
       "      <td>tmp3 = (C D)</td>\n",
       "      <td>gemm!('N', 'N', 1.0, ml2, ml3, 0.0, ml4)</td>\n",
       "      <td>1.658504e+09</td>\n",
       "      <td>1.658504e+09</td>\n",
       "    </tr>\n",
       "    <tr>\n",
       "      <th>13</th>\n",
       "      <td>algorithm3</td>\n",
       "      <td>gemm_6.75e+04</td>\n",
       "      <td>67500.0</td>\n",
       "      <td>tmp5 = (B tmp3)</td>\n",
       "      <td>gemm!('N', 'N', 1.0, ml1, ml4, 0.0, ml5)</td>\n",
       "      <td>1.658504e+09</td>\n",
       "      <td>1.658504e+09</td>\n",
       "    </tr>\n",
       "    <tr>\n",
       "      <th>14</th>\n",
       "      <td>algorithm3</td>\n",
       "      <td>gemm_8.44e+05</td>\n",
       "      <td>844000.0</td>\n",
       "      <td>tmp6 = (A tmp5)</td>\n",
       "      <td>gemm!('N', 'N', 1.0, ml0, ml5, 0.0, ml6)</td>\n",
       "      <td>1.658504e+09</td>\n",
       "      <td>1.658504e+09</td>\n",
       "    </tr>\n",
       "    <tr>\n",
       "      <th>15</th>\n",
       "      <td>algorithm2</td>\n",
       "      <td>gemm_6.75e+04</td>\n",
       "      <td>67500.0</td>\n",
       "      <td>tmp1 = (A B)</td>\n",
       "      <td>gemm!('N', 'N', 1.0, ml0, ml1, 0.0, ml4)</td>\n",
       "      <td>1.658504e+09</td>\n",
       "      <td>1.658504e+09</td>\n",
       "    </tr>\n",
       "    <tr>\n",
       "      <th>16</th>\n",
       "      <td>algorithm2</td>\n",
       "      <td>gemm_6.75e+04</td>\n",
       "      <td>67500.0</td>\n",
       "      <td>tmp4 = (tmp1 C)</td>\n",
       "      <td>gemm!('N', 'N', 1.0, ml4, ml2, 0.0, ml5)</td>\n",
       "      <td>1.658504e+09</td>\n",
       "      <td>1.658504e+09</td>\n",
       "    </tr>\n",
       "    <tr>\n",
       "      <th>17</th>\n",
       "      <td>algorithm2</td>\n",
       "      <td>gemm_8.44e+05</td>\n",
       "      <td>844000.0</td>\n",
       "      <td>tmp6 = (tmp4 D)</td>\n",
       "      <td>gemm!('N', 'N', 1.0, ml5, ml3, 0.0, ml6)</td>\n",
       "      <td>1.658504e+09</td>\n",
       "      <td>1.658504e+09</td>\n",
       "    </tr>\n",
       "  </tbody>\n",
       "</table>\n",
       "</div>"
      ],
      "text/plain": [
       "   case:concept:name   concept:name  ...  timestamp:start timestamp:end\n",
       "0         algorithm1  gemm_6.75e+04  ...     1.658504e+09  1.658504e+09\n",
       "1         algorithm1  gemm_6.75e+04  ...     1.658504e+09  1.658504e+09\n",
       "2         algorithm1  gemm_6.75e+04  ...     1.658504e+09  1.658504e+09\n",
       "3         algorithm5  gemm_6.75e+04  ...     1.658504e+09  1.658504e+09\n",
       "4         algorithm5  gemm_8.44e+05  ...     1.658504e+09  1.658504e+09\n",
       "5         algorithm5  gemm_8.44e+05  ...     1.658504e+09  1.658504e+09\n",
       "6         algorithm4  gemm_6.75e+04  ...     1.658504e+09  1.658504e+09\n",
       "7         algorithm4  gemm_8.44e+05  ...     1.658504e+09  1.658504e+09\n",
       "8         algorithm4  gemm_8.44e+05  ...     1.658504e+09  1.658504e+09\n",
       "9         algorithm0  gemm_6.75e+04  ...     1.658504e+09  1.658504e+09\n",
       "10        algorithm0  gemm_6.75e+04  ...     1.658504e+09  1.658504e+09\n",
       "11        algorithm0  gemm_6.75e+04  ...     1.658504e+09  1.658504e+09\n",
       "12        algorithm3  gemm_6.75e+04  ...     1.658504e+09  1.658504e+09\n",
       "13        algorithm3  gemm_6.75e+04  ...     1.658504e+09  1.658504e+09\n",
       "14        algorithm3  gemm_8.44e+05  ...     1.658504e+09  1.658504e+09\n",
       "15        algorithm2  gemm_6.75e+04  ...     1.658504e+09  1.658504e+09\n",
       "16        algorithm2  gemm_6.75e+04  ...     1.658504e+09  1.658504e+09\n",
       "17        algorithm2  gemm_8.44e+05  ...     1.658504e+09  1.658504e+09\n",
       "\n",
       "[18 rows x 7 columns]"
      ]
     },
     "execution_count": 30,
     "metadata": {},
     "output_type": "execute_result"
    }
   ],
   "source": [
    "measurements_table = dc_local.get_runtimes_table()\n",
    "measurements_table"
   ]
  },
  {
   "cell_type": "markdown",
   "id": "dba4122a",
   "metadata": {},
   "source": [
    "### Data processing\n",
    "\n",
    "The ```data_proccessing``` module takes as input the data frames of the case table and the measurement tables (according to the PA4Algs standards) and performs a number of data processing operations. "
   ]
  },
  {
   "cell_type": "markdown",
   "id": "2ce2d421",
   "metadata": {},
   "source": [
    "#### FilterOnKPIs\n",
    "\n",
    "The ```FilterOnKPI``` class filters the variants with the highest FLOP count or execution times within a cretain threshold from the minimum oberved execution time"
   ]
  },
  {
   "cell_type": "code",
   "execution_count": 31,
   "id": "125eb13c",
   "metadata": {},
   "outputs": [],
   "source": [
    "filterAlgs = FilterOnKPIs(case_table, measurements_table)"
   ]
  },
  {
   "cell_type": "code",
   "execution_count": 33,
   "id": "ca716b63",
   "metadata": {},
   "outputs": [
    {
     "data": {
      "text/html": [
       "<div>\n",
       "<style scoped>\n",
       "    .dataframe tbody tr th:only-of-type {\n",
       "        vertical-align: middle;\n",
       "    }\n",
       "\n",
       "    .dataframe tbody tr th {\n",
       "        vertical-align: top;\n",
       "    }\n",
       "\n",
       "    .dataframe thead th {\n",
       "        text-align: right;\n",
       "    }\n",
       "</style>\n",
       "<table border=\"1\" class=\"dataframe\">\n",
       "  <thead>\n",
       "    <tr style=\"text-align: right;\">\n",
       "      <th></th>\n",
       "      <th>case:concept:name</th>\n",
       "      <th>case:timestamp:start</th>\n",
       "      <th>case:timestamp:end</th>\n",
       "      <th>case:duration</th>\n",
       "      <th>case:flops</th>\n",
       "      <th>case:num_kernels</th>\n",
       "      <th>case:rel-flops</th>\n",
       "      <th>case:rel-duration</th>\n",
       "    </tr>\n",
       "  </thead>\n",
       "  <tbody>\n",
       "    <tr>\n",
       "      <th>0</th>\n",
       "      <td>algorithm1</td>\n",
       "      <td>1.658504e+09</td>\n",
       "      <td>1.658504e+09</td>\n",
       "      <td>0.000039</td>\n",
       "      <td>202000.0</td>\n",
       "      <td>3</td>\n",
       "      <td>0.000000</td>\n",
       "      <td>0.006135</td>\n",
       "    </tr>\n",
       "    <tr>\n",
       "      <th>3</th>\n",
       "      <td>algorithm0</td>\n",
       "      <td>1.658504e+09</td>\n",
       "      <td>1.658504e+09</td>\n",
       "      <td>0.000039</td>\n",
       "      <td>202000.0</td>\n",
       "      <td>3</td>\n",
       "      <td>0.000000</td>\n",
       "      <td>0.000000</td>\n",
       "    </tr>\n",
       "    <tr>\n",
       "      <th>4</th>\n",
       "      <td>algorithm3</td>\n",
       "      <td>1.658504e+09</td>\n",
       "      <td>1.658504e+09</td>\n",
       "      <td>0.000082</td>\n",
       "      <td>979000.0</td>\n",
       "      <td>3</td>\n",
       "      <td>3.846535</td>\n",
       "      <td>1.110429</td>\n",
       "    </tr>\n",
       "    <tr>\n",
       "      <th>5</th>\n",
       "      <td>algorithm2</td>\n",
       "      <td>1.658504e+09</td>\n",
       "      <td>1.658504e+09</td>\n",
       "      <td>0.000082</td>\n",
       "      <td>979000.0</td>\n",
       "      <td>3</td>\n",
       "      <td>3.846535</td>\n",
       "      <td>1.110429</td>\n",
       "    </tr>\n",
       "  </tbody>\n",
       "</table>\n",
       "</div>"
      ],
      "text/plain": [
       "  case:concept:name  case:timestamp:start  ...  case:rel-flops  case:rel-duration\n",
       "0        algorithm1          1.658504e+09  ...        0.000000           0.006135\n",
       "3        algorithm0          1.658504e+09  ...        0.000000           0.000000\n",
       "4        algorithm3          1.658504e+09  ...        3.846535           1.110429\n",
       "5        algorithm2          1.658504e+09  ...        3.846535           1.110429\n",
       "\n",
       "[4 rows x 8 columns]"
      ]
     },
     "execution_count": 33,
     "metadata": {},
     "output_type": "execute_result"
    }
   ],
   "source": [
    "filterAlgs.filter_on_flops_and_rel_duration(1.2)"
   ]
  },
  {
   "cell_type": "code",
   "execution_count": 34,
   "id": "6d787f14",
   "metadata": {},
   "outputs": [
    {
     "data": {
      "text/html": [
       "<div>\n",
       "<style scoped>\n",
       "    .dataframe tbody tr th:only-of-type {\n",
       "        vertical-align: middle;\n",
       "    }\n",
       "\n",
       "    .dataframe tbody tr th {\n",
       "        vertical-align: top;\n",
       "    }\n",
       "\n",
       "    .dataframe thead th {\n",
       "        text-align: right;\n",
       "    }\n",
       "</style>\n",
       "<table border=\"1\" class=\"dataframe\">\n",
       "  <thead>\n",
       "    <tr style=\"text-align: right;\">\n",
       "      <th></th>\n",
       "      <th>case:concept:name</th>\n",
       "      <th>case:timestamp:start</th>\n",
       "      <th>case:timestamp:end</th>\n",
       "      <th>case:duration</th>\n",
       "      <th>case:flops</th>\n",
       "      <th>case:num_kernels</th>\n",
       "      <th>case:rel-flops</th>\n",
       "      <th>case:rel-duration</th>\n",
       "    </tr>\n",
       "  </thead>\n",
       "  <tbody>\n",
       "    <tr>\n",
       "      <th>0</th>\n",
       "      <td>algorithm1</td>\n",
       "      <td>1.658504e+09</td>\n",
       "      <td>1.658504e+09</td>\n",
       "      <td>0.000039</td>\n",
       "      <td>202000.0</td>\n",
       "      <td>3</td>\n",
       "      <td>0.0</td>\n",
       "      <td>0.006135</td>\n",
       "    </tr>\n",
       "    <tr>\n",
       "      <th>3</th>\n",
       "      <td>algorithm0</td>\n",
       "      <td>1.658504e+09</td>\n",
       "      <td>1.658504e+09</td>\n",
       "      <td>0.000039</td>\n",
       "      <td>202000.0</td>\n",
       "      <td>3</td>\n",
       "      <td>0.0</td>\n",
       "      <td>0.000000</td>\n",
       "    </tr>\n",
       "  </tbody>\n",
       "</table>\n",
       "</div>"
      ],
      "text/plain": [
       "  case:concept:name  case:timestamp:start  ...  case:rel-flops  case:rel-duration\n",
       "0        algorithm1          1.658504e+09  ...             0.0           0.006135\n",
       "3        algorithm0          1.658504e+09  ...             0.0           0.000000\n",
       "\n",
       "[2 rows x 8 columns]"
      ]
     },
     "execution_count": 34,
     "metadata": {},
     "output_type": "execute_result"
    }
   ],
   "source": [
    "filterAlgs.filter_on_best_flops()"
   ]
  },
  {
   "cell_type": "code",
   "execution_count": 35,
   "id": "b95b3430",
   "metadata": {},
   "outputs": [
    {
     "data": {
      "text/plain": [
       "['algorithm0',\n",
       " 'algorithm1',\n",
       " 'algorithm3',\n",
       " 'algorithm2',\n",
       " 'algorithm4',\n",
       " 'algorithm5']"
      ]
     },
     "execution_count": 35,
     "metadata": {},
     "output_type": "execute_result"
    }
   ],
   "source": [
    "filterAlgs.get_alg_seq_sorted_on_duration()"
   ]
  },
  {
   "cell_type": "markdown",
   "id": "3cb0c8c4",
   "metadata": {},
   "source": [
    "#### CaseDurationManager"
   ]
  },
  {
   "cell_type": "markdown",
   "id": "f0e4c0fd",
   "metadata": {},
   "source": [
    "In practise, measuremnets from multiple tables have to be aggregated. For instance, in order to measure the relative performance of algorithms in PA4Algs (Algorithm Ranking), the variants are measured iteratively, and the execution times from different csv files have to be combined into a single data frame. To this end, ```CaseDurationManager``` class is used"
   ]
  },
  {
   "cell_type": "code",
   "execution_count": 42,
   "id": "c6a0d943",
   "metadata": {},
   "outputs": [
    {
     "data": {
      "text/html": [
       "<div>\n",
       "<style scoped>\n",
       "    .dataframe tbody tr th:only-of-type {\n",
       "        vertical-align: middle;\n",
       "    }\n",
       "\n",
       "    .dataframe tbody tr th {\n",
       "        vertical-align: top;\n",
       "    }\n",
       "\n",
       "    .dataframe thead th {\n",
       "        text-align: right;\n",
       "    }\n",
       "</style>\n",
       "<table border=\"1\" class=\"dataframe\">\n",
       "  <thead>\n",
       "    <tr style=\"text-align: right;\">\n",
       "      <th></th>\n",
       "      <th>case:concept:name</th>\n",
       "      <th>case:timestamp:start</th>\n",
       "      <th>case:timestamp:end</th>\n",
       "      <th>case:duration</th>\n",
       "    </tr>\n",
       "  </thead>\n",
       "  <tbody>\n",
       "    <tr>\n",
       "      <th>0</th>\n",
       "      <td>algorithm0_00</td>\n",
       "      <td>1.658505e+09</td>\n",
       "      <td>1.658505e+09</td>\n",
       "      <td>0.000802</td>\n",
       "    </tr>\n",
       "    <tr>\n",
       "      <th>1</th>\n",
       "      <td>algorithm1_01</td>\n",
       "      <td>1.658505e+09</td>\n",
       "      <td>1.658505e+09</td>\n",
       "      <td>0.000019</td>\n",
       "    </tr>\n",
       "    <tr>\n",
       "      <th>2</th>\n",
       "      <td>algorithm0_01</td>\n",
       "      <td>1.658505e+09</td>\n",
       "      <td>1.658505e+09</td>\n",
       "      <td>0.000021</td>\n",
       "    </tr>\n",
       "    <tr>\n",
       "      <th>3</th>\n",
       "      <td>algorithm1_02</td>\n",
       "      <td>1.658505e+09</td>\n",
       "      <td>1.658505e+09</td>\n",
       "      <td>0.000022</td>\n",
       "    </tr>\n",
       "    <tr>\n",
       "      <th>4</th>\n",
       "      <td>algorithm0_02</td>\n",
       "      <td>1.658505e+09</td>\n",
       "      <td>1.658505e+09</td>\n",
       "      <td>0.000036</td>\n",
       "    </tr>\n",
       "    <tr>\n",
       "      <th>5</th>\n",
       "      <td>algorithm1_00</td>\n",
       "      <td>1.658505e+09</td>\n",
       "      <td>1.658505e+09</td>\n",
       "      <td>0.000035</td>\n",
       "    </tr>\n",
       "  </tbody>\n",
       "</table>\n",
       "</div>"
      ],
      "text/plain": [
       "  case:concept:name  case:timestamp:start  case:timestamp:end  case:duration\n",
       "0     algorithm0_00          1.658505e+09        1.658505e+09       0.000802\n",
       "1     algorithm1_01          1.658505e+09        1.658505e+09       0.000019\n",
       "2     algorithm0_01          1.658505e+09        1.658505e+09       0.000021\n",
       "3     algorithm1_02          1.658505e+09        1.658505e+09       0.000022\n",
       "4     algorithm0_02          1.658505e+09        1.658505e+09       0.000036\n",
       "5     algorithm1_00          1.658505e+09        1.658505e+09       0.000035"
      ]
     },
     "execution_count": 42,
     "metadata": {},
     "output_type": "execute_result"
    }
   ],
   "source": [
    "cm = CaseDurationsManager()\n",
    "\n",
    "run_times_table0 = dc_local.get_runtimes_competing_table(0)\n",
    "cm.add_case_durations(run_times_table0)\n",
    "\n",
    "cm.case_durations"
   ]
  },
  {
   "cell_type": "markdown",
   "id": "03e9e374",
   "metadata": {},
   "source": [
    "For instances, let us consider combining measurements from ```run_times_competing_0.csv``` and ```run_times_competing_1.csv```. ```run_times_competing_0.csv``` s already available. Now lets measure again and get ```run_times_competing_1.csv```"
   ]
  },
  {
   "cell_type": "code",
   "execution_count": 37,
   "id": "70053a28",
   "metadata": {},
   "outputs": [
    {
     "name": "stdout",
     "output_type": "stream",
     "text": [
      "['python', 'sample_generation/experiments/75_75_6_75_75/generate-measurements-script.py', '--algs', 'algorithm0', 'algorithm1', '--rep', '3', '--threads', '4', '--id', '1']\n",
      "\u001b[92mSuccess: Local run: Generate Measurement script 1\u001b[0m\n",
      "Running Measurements locally\n",
      "['julia', 'sample_generation/experiments/75_75_6_75_75/runner_competing_1.jl']\n",
      "\u001b[92mSuccess: Local run: Measurements from runner_competing_1.jl\u001b[0m\n"
     ]
    },
    {
     "data": {
      "text/plain": [
       "0"
      ]
     },
     "execution_count": 37,
     "metadata": {},
     "output_type": "execute_result"
    }
   ],
   "source": [
    "runner_local.generate_measurements_script(measurements_script, variants, 1, reps)\n",
    "runner_competing_script = \"runner_competing_1.jl\"\n",
    "runner_local.measure_variants(app=\"julia\", runner_script=runner_competing_script)"
   ]
  },
  {
   "cell_type": "code",
   "execution_count": 43,
   "id": "8a8e1a94",
   "metadata": {},
   "outputs": [],
   "source": [
    "run_times_table1 = dc_local.get_runtimes_competing_table(1)"
   ]
  },
  {
   "cell_type": "code",
   "execution_count": 44,
   "id": "0fd48ff8",
   "metadata": {},
   "outputs": [],
   "source": [
    "cm.add_case_durations(run_times_table1)"
   ]
  },
  {
   "cell_type": "code",
   "execution_count": 45,
   "id": "7b6ce96a",
   "metadata": {},
   "outputs": [
    {
     "data": {
      "text/html": [
       "<div>\n",
       "<style scoped>\n",
       "    .dataframe tbody tr th:only-of-type {\n",
       "        vertical-align: middle;\n",
       "    }\n",
       "\n",
       "    .dataframe tbody tr th {\n",
       "        vertical-align: top;\n",
       "    }\n",
       "\n",
       "    .dataframe thead th {\n",
       "        text-align: right;\n",
       "    }\n",
       "</style>\n",
       "<table border=\"1\" class=\"dataframe\">\n",
       "  <thead>\n",
       "    <tr style=\"text-align: right;\">\n",
       "      <th></th>\n",
       "      <th>case:concept:name</th>\n",
       "      <th>case:timestamp:start</th>\n",
       "      <th>case:timestamp:end</th>\n",
       "      <th>case:duration</th>\n",
       "    </tr>\n",
       "  </thead>\n",
       "  <tbody>\n",
       "    <tr>\n",
       "      <th>0</th>\n",
       "      <td>algorithm0_00</td>\n",
       "      <td>1.658505e+09</td>\n",
       "      <td>1.658505e+09</td>\n",
       "      <td>0.000802</td>\n",
       "    </tr>\n",
       "    <tr>\n",
       "      <th>1</th>\n",
       "      <td>algorithm1_01</td>\n",
       "      <td>1.658505e+09</td>\n",
       "      <td>1.658505e+09</td>\n",
       "      <td>0.000019</td>\n",
       "    </tr>\n",
       "    <tr>\n",
       "      <th>2</th>\n",
       "      <td>algorithm0_01</td>\n",
       "      <td>1.658505e+09</td>\n",
       "      <td>1.658505e+09</td>\n",
       "      <td>0.000021</td>\n",
       "    </tr>\n",
       "    <tr>\n",
       "      <th>3</th>\n",
       "      <td>algorithm1_02</td>\n",
       "      <td>1.658505e+09</td>\n",
       "      <td>1.658505e+09</td>\n",
       "      <td>0.000022</td>\n",
       "    </tr>\n",
       "    <tr>\n",
       "      <th>4</th>\n",
       "      <td>algorithm0_02</td>\n",
       "      <td>1.658505e+09</td>\n",
       "      <td>1.658505e+09</td>\n",
       "      <td>0.000036</td>\n",
       "    </tr>\n",
       "    <tr>\n",
       "      <th>5</th>\n",
       "      <td>algorithm1_00</td>\n",
       "      <td>1.658505e+09</td>\n",
       "      <td>1.658505e+09</td>\n",
       "      <td>0.000035</td>\n",
       "    </tr>\n",
       "    <tr>\n",
       "      <th>6</th>\n",
       "      <td>algorithm1_12</td>\n",
       "      <td>1.658506e+09</td>\n",
       "      <td>1.658506e+09</td>\n",
       "      <td>0.000811</td>\n",
       "    </tr>\n",
       "    <tr>\n",
       "      <th>7</th>\n",
       "      <td>algorithm0_12</td>\n",
       "      <td>1.658506e+09</td>\n",
       "      <td>1.658506e+09</td>\n",
       "      <td>0.000027</td>\n",
       "    </tr>\n",
       "    <tr>\n",
       "      <th>8</th>\n",
       "      <td>algorithm1_11</td>\n",
       "      <td>1.658506e+09</td>\n",
       "      <td>1.658506e+09</td>\n",
       "      <td>0.000032</td>\n",
       "    </tr>\n",
       "    <tr>\n",
       "      <th>9</th>\n",
       "      <td>algorithm0_11</td>\n",
       "      <td>1.658506e+09</td>\n",
       "      <td>1.658506e+09</td>\n",
       "      <td>0.000032</td>\n",
       "    </tr>\n",
       "    <tr>\n",
       "      <th>10</th>\n",
       "      <td>algorithm0_10</td>\n",
       "      <td>1.658506e+09</td>\n",
       "      <td>1.658506e+09</td>\n",
       "      <td>0.000045</td>\n",
       "    </tr>\n",
       "    <tr>\n",
       "      <th>11</th>\n",
       "      <td>algorithm1_10</td>\n",
       "      <td>1.658506e+09</td>\n",
       "      <td>1.658506e+09</td>\n",
       "      <td>0.000048</td>\n",
       "    </tr>\n",
       "  </tbody>\n",
       "</table>\n",
       "</div>"
      ],
      "text/plain": [
       "   case:concept:name  case:timestamp:start  case:timestamp:end  case:duration\n",
       "0      algorithm0_00          1.658505e+09        1.658505e+09       0.000802\n",
       "1      algorithm1_01          1.658505e+09        1.658505e+09       0.000019\n",
       "2      algorithm0_01          1.658505e+09        1.658505e+09       0.000021\n",
       "3      algorithm1_02          1.658505e+09        1.658505e+09       0.000022\n",
       "4      algorithm0_02          1.658505e+09        1.658505e+09       0.000036\n",
       "5      algorithm1_00          1.658505e+09        1.658505e+09       0.000035\n",
       "6      algorithm1_12          1.658506e+09        1.658506e+09       0.000811\n",
       "7      algorithm0_12          1.658506e+09        1.658506e+09       0.000027\n",
       "8      algorithm1_11          1.658506e+09        1.658506e+09       0.000032\n",
       "9      algorithm0_11          1.658506e+09        1.658506e+09       0.000032\n",
       "10     algorithm0_10          1.658506e+09        1.658506e+09       0.000045\n",
       "11     algorithm1_10          1.658506e+09        1.658506e+09       0.000048"
      ]
     },
     "execution_count": 45,
     "metadata": {},
     "output_type": "execute_result"
    }
   ],
   "source": [
    "cm.case_durations"
   ]
  },
  {
   "cell_type": "markdown",
   "id": "ac923740",
   "metadata": {},
   "source": [
    "```CaseDurationManager``` also outputs the measurements as a dictionary in the following format (In order to rank the algorithms using the ***PA4Algs*** (Algorithm ranking), the format is required) "
   ]
  },
  {
   "cell_type": "code",
   "execution_count": 46,
   "id": "cbcde43b",
   "metadata": {},
   "outputs": [
    {
     "data": {
      "text/plain": [
       "{'algorithm0': [0.0008020401000976562,\n",
       "  2.09808349609375e-05,\n",
       "  3.600120544433594e-05,\n",
       "  2.7179718017578125e-05,\n",
       "  3.1948089599609375e-05,\n",
       "  4.506111145019531e-05],\n",
       " 'algorithm1': [1.9073486328125e-05,\n",
       "  2.2172927856445312e-05,\n",
       "  3.504753112792969e-05,\n",
       "  0.0008111000061035156,\n",
       "  3.1948089599609375e-05,\n",
       "  4.8160552978515625e-05]}"
      ]
     },
     "execution_count": 46,
     "metadata": {},
     "output_type": "execute_result"
    }
   ],
   "source": [
    "cm.get_alg_measurements()"
   ]
  },
  {
   "cell_type": "markdown",
   "id": "55dacd36",
   "metadata": {},
   "source": [
    "#### Deleting the directory and the csv files generated by the runner"
   ]
  },
  {
   "cell_type": "code",
   "execution_count": 47,
   "id": "c570b063",
   "metadata": {},
   "outputs": [],
   "source": [
    "runner_local.clean()"
   ]
  },
  {
   "cell_type": "code",
   "execution_count": 49,
   "id": "bcc28870",
   "metadata": {},
   "outputs": [],
   "source": [
    "!ls sample_generation/experiments/"
   ]
  },
  {
   "cell_type": "markdown",
   "id": "9b2099be",
   "metadata": {},
   "source": [
    "## Executing Measurements on the Backend"
   ]
  },
  {
   "cell_type": "markdown",
   "id": "c16deaba",
   "metadata": {},
   "source": [
    "#### 1. Instantiate a backend manager"
   ]
  },
  {
   "cell_type": "code",
   "execution_count": 77,
   "id": "74ea826b",
   "metadata": {},
   "outputs": [],
   "source": [
    "from backend_manager import BackendManager,Commands\n",
    "import os"
   ]
  },
  {
   "cell_type": "code",
   "execution_count": 51,
   "id": "9478a649",
   "metadata": {},
   "outputs": [],
   "source": [
    "bm = BackendManager(server=\"login18-1.hpc.itc.rwth-aachen.de\", uname=\"as641651\")\n",
    "bm.connect()\n",
    "cmds = Commands(source=\"~/.analyzer\")"
   ]
  },
  {
   "cell_type": "markdown",
   "id": "44436a2c",
   "metadata": {},
   "source": [
    "#### 2. Generate variants"
   ]
  },
  {
   "cell_type": "code",
   "execution_count": 52,
   "id": "32756707",
   "metadata": {},
   "outputs": [],
   "source": [
    "operand_sizes = [\"75\",\"75\",\"6\",\"75\",\"75\"]\n",
    "script_dir = \"sample_generation/\" # the path to the directory in the backend\n",
    "generation_script = \"generate-variants-linnea.py\"\n",
    "runner = RunnerVariants(operand_sizes, script_dir,backend_manager=bm, backend_commands=cmds)"
   ]
  },
  {
   "cell_type": "code",
   "execution_count": 53,
   "id": "2266ad0f",
   "metadata": {},
   "outputs": [
    {
     "name": "stdout",
     "output_type": "stream",
     "text": [
      "source ~/.analyzer; cd sample_generation; python generate-variants-linnea.py 75 75 6 75 75 --threads=4\n",
      "['New solution:.............2.02e+05\\n', 'No further generation steps possible.\\n', '----------------------------------\\n', 'Number of nodes:                 8\\n', 'Solution nodes:                  1\\n', 'Data:                     1.78e+04\\n', 'Best solution:            2.02e+05\\n', 'Intensity:                    11.4\\n', 'Number of algorithms:            6\\n', 'Generated Variants.\\n']\n",
      "\u001b[92mSuccess: Backend interactive run: Generate variants\u001b[0m\n"
     ]
    }
   ],
   "source": [
    "ret = runner.generate_variants_for_measurements(generation_script=generation_script)"
   ]
  },
  {
   "cell_type": "markdown",
   "id": "ec2657b6",
   "metadata": {},
   "source": [
    "#### 3. Measure variants"
   ]
  },
  {
   "cell_type": "code",
   "execution_count": 54,
   "id": "2dd4b078",
   "metadata": {},
   "outputs": [
    {
     "name": "stdout",
     "output_type": "stream",
     "text": [
      "Running Measurements Backend interactive\n",
      "source ~/.analyzer; cd sample_generation/experiments/75_75_6_75_75; julia runner.jl \n",
      "[]\n",
      "\u001b[92mSuccess: Backend interactive run: Measurements from runner.jl\u001b[0m\n"
     ]
    },
    {
     "data": {
      "text/plain": [
       "0"
      ]
     },
     "execution_count": 54,
     "metadata": {},
     "output_type": "execute_result"
    }
   ],
   "source": [
    "runner.measure_variants(app=\"julia\", runner_script=\"runner.jl\")"
   ]
  },
  {
   "cell_type": "markdown",
   "id": "996c4b99",
   "metadata": {},
   "source": [
    "#### 4. Read Tables\n",
    "\n",
    "To this end, instantiate the ```DataCollector``` class by passing the backend manager. The class synchronizes data from the opoerands directory from the runner to a local directory"
   ]
  },
  {
   "cell_type": "code",
   "execution_count": 55,
   "id": "ff0b4746",
   "metadata": {},
   "outputs": [],
   "source": [
    "local_dir = \"sample_generation/cluster/\"\n",
    "backend_dir = runner.operands_dir"
   ]
  },
  {
   "cell_type": "code",
   "execution_count": 56,
   "id": "0341514b",
   "metadata": {},
   "outputs": [],
   "source": [
    "dc_backend = DataCollector(local_dir,backend_dir,bm)"
   ]
  },
  {
   "cell_type": "code",
   "execution_count": 60,
   "id": "115121fb",
   "metadata": {},
   "outputs": [
    {
     "data": {
      "text/html": [
       "<div>\n",
       "<style scoped>\n",
       "    .dataframe tbody tr th:only-of-type {\n",
       "        vertical-align: middle;\n",
       "    }\n",
       "\n",
       "    .dataframe tbody tr th {\n",
       "        vertical-align: top;\n",
       "    }\n",
       "\n",
       "    .dataframe thead th {\n",
       "        text-align: right;\n",
       "    }\n",
       "</style>\n",
       "<table border=\"1\" class=\"dataframe\">\n",
       "  <thead>\n",
       "    <tr style=\"text-align: right;\">\n",
       "      <th></th>\n",
       "      <th>case:concept:name</th>\n",
       "      <th>case:flops</th>\n",
       "      <th>case:num_kernels</th>\n",
       "    </tr>\n",
       "  </thead>\n",
       "  <tbody>\n",
       "    <tr>\n",
       "      <th>0</th>\n",
       "      <td>algorithm0</td>\n",
       "      <td>202000.0</td>\n",
       "      <td>3</td>\n",
       "    </tr>\n",
       "    <tr>\n",
       "      <th>1</th>\n",
       "      <td>algorithm2</td>\n",
       "      <td>979000.0</td>\n",
       "      <td>3</td>\n",
       "    </tr>\n",
       "    <tr>\n",
       "      <th>2</th>\n",
       "      <td>algorithm4</td>\n",
       "      <td>1760000.0</td>\n",
       "      <td>3</td>\n",
       "    </tr>\n",
       "    <tr>\n",
       "      <th>3</th>\n",
       "      <td>algorithm1</td>\n",
       "      <td>202000.0</td>\n",
       "      <td>3</td>\n",
       "    </tr>\n",
       "    <tr>\n",
       "      <th>4</th>\n",
       "      <td>algorithm5</td>\n",
       "      <td>1760000.0</td>\n",
       "      <td>3</td>\n",
       "    </tr>\n",
       "    <tr>\n",
       "      <th>5</th>\n",
       "      <td>algorithm3</td>\n",
       "      <td>979000.0</td>\n",
       "      <td>3</td>\n",
       "    </tr>\n",
       "  </tbody>\n",
       "</table>\n",
       "</div>"
      ],
      "text/plain": [
       "  case:concept:name  case:flops  case:num_kernels\n",
       "0        algorithm0    202000.0                 3\n",
       "1        algorithm2    979000.0                 3\n",
       "2        algorithm4   1760000.0                 3\n",
       "3        algorithm1    202000.0                 3\n",
       "4        algorithm5   1760000.0                 3\n",
       "5        algorithm3    979000.0                 3"
      ]
     },
     "execution_count": 60,
     "metadata": {},
     "output_type": "execute_result"
    }
   ],
   "source": [
    "ct_backend = dc_backend.get_case_table()\n",
    "ct_backend"
   ]
  },
  {
   "cell_type": "code",
   "execution_count": 62,
   "id": "ed977d08",
   "metadata": {},
   "outputs": [
    {
     "data": {
      "text/html": [
       "<div>\n",
       "<style scoped>\n",
       "    .dataframe tbody tr th:only-of-type {\n",
       "        vertical-align: middle;\n",
       "    }\n",
       "\n",
       "    .dataframe tbody tr th {\n",
       "        vertical-align: top;\n",
       "    }\n",
       "\n",
       "    .dataframe thead th {\n",
       "        text-align: right;\n",
       "    }\n",
       "</style>\n",
       "<table border=\"1\" class=\"dataframe\">\n",
       "  <thead>\n",
       "    <tr style=\"text-align: right;\">\n",
       "      <th></th>\n",
       "      <th>case:concept:name</th>\n",
       "      <th>concept:name</th>\n",
       "      <th>concept:flops</th>\n",
       "      <th>concept:operation</th>\n",
       "      <th>concept:kernel</th>\n",
       "      <th>timestamp:start</th>\n",
       "      <th>timestamp:end</th>\n",
       "    </tr>\n",
       "  </thead>\n",
       "  <tbody>\n",
       "    <tr>\n",
       "      <th>0</th>\n",
       "      <td>algorithm0</td>\n",
       "      <td>gemm_6.75e+04</td>\n",
       "      <td>67500.0</td>\n",
       "      <td>tmp3 = (C D)</td>\n",
       "      <td>gemm!('N', 'N', 1.0, ml2, ml3, 0.0, ml4)</td>\n",
       "      <td>1.658507e+09</td>\n",
       "      <td>1.658507e+09</td>\n",
       "    </tr>\n",
       "    <tr>\n",
       "      <th>1</th>\n",
       "      <td>algorithm0</td>\n",
       "      <td>gemm_6.75e+04</td>\n",
       "      <td>67500.0</td>\n",
       "      <td>tmp1 = (A B)</td>\n",
       "      <td>gemm!('N', 'N', 1.0, ml0, ml1, 0.0, ml5)</td>\n",
       "      <td>1.658507e+09</td>\n",
       "      <td>1.658507e+09</td>\n",
       "    </tr>\n",
       "    <tr>\n",
       "      <th>2</th>\n",
       "      <td>algorithm0</td>\n",
       "      <td>gemm_6.75e+04</td>\n",
       "      <td>67500.0</td>\n",
       "      <td>tmp6 = (tmp1 tmp3)</td>\n",
       "      <td>gemm!('N', 'N', 1.0, ml5, ml4, 0.0, ml6)</td>\n",
       "      <td>1.658507e+09</td>\n",
       "      <td>1.658507e+09</td>\n",
       "    </tr>\n",
       "    <tr>\n",
       "      <th>3</th>\n",
       "      <td>algorithm2</td>\n",
       "      <td>gemm_6.75e+04</td>\n",
       "      <td>67500.0</td>\n",
       "      <td>tmp1 = (A B)</td>\n",
       "      <td>gemm!('N', 'N', 1.0, ml0, ml1, 0.0, ml4)</td>\n",
       "      <td>1.658507e+09</td>\n",
       "      <td>1.658507e+09</td>\n",
       "    </tr>\n",
       "    <tr>\n",
       "      <th>4</th>\n",
       "      <td>algorithm2</td>\n",
       "      <td>gemm_6.75e+04</td>\n",
       "      <td>67500.0</td>\n",
       "      <td>tmp4 = (tmp1 C)</td>\n",
       "      <td>gemm!('N', 'N', 1.0, ml4, ml2, 0.0, ml5)</td>\n",
       "      <td>1.658507e+09</td>\n",
       "      <td>1.658507e+09</td>\n",
       "    </tr>\n",
       "    <tr>\n",
       "      <th>5</th>\n",
       "      <td>algorithm2</td>\n",
       "      <td>gemm_8.44e+05</td>\n",
       "      <td>844000.0</td>\n",
       "      <td>tmp6 = (tmp4 D)</td>\n",
       "      <td>gemm!('N', 'N', 1.0, ml5, ml3, 0.0, ml6)</td>\n",
       "      <td>1.658507e+09</td>\n",
       "      <td>1.658507e+09</td>\n",
       "    </tr>\n",
       "    <tr>\n",
       "      <th>6</th>\n",
       "      <td>algorithm4</td>\n",
       "      <td>gemm_6.75e+04</td>\n",
       "      <td>67500.0</td>\n",
       "      <td>tmp2 = (B C)</td>\n",
       "      <td>gemm!('N', 'N', 1.0, ml1, ml2, 0.0, ml4)</td>\n",
       "      <td>1.658507e+09</td>\n",
       "      <td>1.658507e+09</td>\n",
       "    </tr>\n",
       "    <tr>\n",
       "      <th>7</th>\n",
       "      <td>algorithm4</td>\n",
       "      <td>gemm_8.44e+05</td>\n",
       "      <td>844000.0</td>\n",
       "      <td>tmp5 = (tmp2 D)</td>\n",
       "      <td>gemm!('N', 'N', 1.0, ml4, ml3, 0.0, ml5)</td>\n",
       "      <td>1.658507e+09</td>\n",
       "      <td>1.658507e+09</td>\n",
       "    </tr>\n",
       "    <tr>\n",
       "      <th>8</th>\n",
       "      <td>algorithm4</td>\n",
       "      <td>gemm_8.44e+05</td>\n",
       "      <td>844000.0</td>\n",
       "      <td>tmp6 = (A tmp5)</td>\n",
       "      <td>gemm!('N', 'N', 1.0, ml0, ml5, 0.0, ml6)</td>\n",
       "      <td>1.658507e+09</td>\n",
       "      <td>1.658507e+09</td>\n",
       "    </tr>\n",
       "    <tr>\n",
       "      <th>9</th>\n",
       "      <td>algorithm1</td>\n",
       "      <td>gemm_6.75e+04</td>\n",
       "      <td>67500.0</td>\n",
       "      <td>tmp1 = (A B)</td>\n",
       "      <td>gemm!('N', 'N', 1.0, ml0, ml1, 0.0, ml4)</td>\n",
       "      <td>1.658507e+09</td>\n",
       "      <td>1.658507e+09</td>\n",
       "    </tr>\n",
       "    <tr>\n",
       "      <th>10</th>\n",
       "      <td>algorithm1</td>\n",
       "      <td>gemm_6.75e+04</td>\n",
       "      <td>67500.0</td>\n",
       "      <td>tmp3 = (C D)</td>\n",
       "      <td>gemm!('N', 'N', 1.0, ml2, ml3, 0.0, ml5)</td>\n",
       "      <td>1.658507e+09</td>\n",
       "      <td>1.658507e+09</td>\n",
       "    </tr>\n",
       "    <tr>\n",
       "      <th>11</th>\n",
       "      <td>algorithm1</td>\n",
       "      <td>gemm_6.75e+04</td>\n",
       "      <td>67500.0</td>\n",
       "      <td>tmp6 = (tmp1 tmp3)</td>\n",
       "      <td>gemm!('N', 'N', 1.0, ml4, ml5, 0.0, ml6)</td>\n",
       "      <td>1.658507e+09</td>\n",
       "      <td>1.658507e+09</td>\n",
       "    </tr>\n",
       "    <tr>\n",
       "      <th>12</th>\n",
       "      <td>algorithm5</td>\n",
       "      <td>gemm_6.75e+04</td>\n",
       "      <td>67500.0</td>\n",
       "      <td>tmp2 = (B C)</td>\n",
       "      <td>gemm!('N', 'N', 1.0, ml1, ml2, 0.0, ml4)</td>\n",
       "      <td>1.658507e+09</td>\n",
       "      <td>1.658507e+09</td>\n",
       "    </tr>\n",
       "    <tr>\n",
       "      <th>13</th>\n",
       "      <td>algorithm5</td>\n",
       "      <td>gemm_8.44e+05</td>\n",
       "      <td>844000.0</td>\n",
       "      <td>tmp4 = (A tmp2)</td>\n",
       "      <td>gemm!('N', 'N', 1.0, ml0, ml4, 0.0, ml5)</td>\n",
       "      <td>1.658507e+09</td>\n",
       "      <td>1.658507e+09</td>\n",
       "    </tr>\n",
       "    <tr>\n",
       "      <th>14</th>\n",
       "      <td>algorithm5</td>\n",
       "      <td>gemm_8.44e+05</td>\n",
       "      <td>844000.0</td>\n",
       "      <td>tmp6 = (tmp4 D)</td>\n",
       "      <td>gemm!('N', 'N', 1.0, ml5, ml3, 0.0, ml6)</td>\n",
       "      <td>1.658507e+09</td>\n",
       "      <td>1.658507e+09</td>\n",
       "    </tr>\n",
       "    <tr>\n",
       "      <th>15</th>\n",
       "      <td>algorithm3</td>\n",
       "      <td>gemm_6.75e+04</td>\n",
       "      <td>67500.0</td>\n",
       "      <td>tmp3 = (C D)</td>\n",
       "      <td>gemm!('N', 'N', 1.0, ml2, ml3, 0.0, ml4)</td>\n",
       "      <td>1.658507e+09</td>\n",
       "      <td>1.658507e+09</td>\n",
       "    </tr>\n",
       "    <tr>\n",
       "      <th>16</th>\n",
       "      <td>algorithm3</td>\n",
       "      <td>gemm_6.75e+04</td>\n",
       "      <td>67500.0</td>\n",
       "      <td>tmp5 = (B tmp3)</td>\n",
       "      <td>gemm!('N', 'N', 1.0, ml1, ml4, 0.0, ml5)</td>\n",
       "      <td>1.658507e+09</td>\n",
       "      <td>1.658507e+09</td>\n",
       "    </tr>\n",
       "    <tr>\n",
       "      <th>17</th>\n",
       "      <td>algorithm3</td>\n",
       "      <td>gemm_8.44e+05</td>\n",
       "      <td>844000.0</td>\n",
       "      <td>tmp6 = (A tmp5)</td>\n",
       "      <td>gemm!('N', 'N', 1.0, ml0, ml5, 0.0, ml6)</td>\n",
       "      <td>1.658507e+09</td>\n",
       "      <td>1.658507e+09</td>\n",
       "    </tr>\n",
       "  </tbody>\n",
       "</table>\n",
       "</div>"
      ],
      "text/plain": [
       "   case:concept:name   concept:name  ...  timestamp:start timestamp:end\n",
       "0         algorithm0  gemm_6.75e+04  ...     1.658507e+09  1.658507e+09\n",
       "1         algorithm0  gemm_6.75e+04  ...     1.658507e+09  1.658507e+09\n",
       "2         algorithm0  gemm_6.75e+04  ...     1.658507e+09  1.658507e+09\n",
       "3         algorithm2  gemm_6.75e+04  ...     1.658507e+09  1.658507e+09\n",
       "4         algorithm2  gemm_6.75e+04  ...     1.658507e+09  1.658507e+09\n",
       "5         algorithm2  gemm_8.44e+05  ...     1.658507e+09  1.658507e+09\n",
       "6         algorithm4  gemm_6.75e+04  ...     1.658507e+09  1.658507e+09\n",
       "7         algorithm4  gemm_8.44e+05  ...     1.658507e+09  1.658507e+09\n",
       "8         algorithm4  gemm_8.44e+05  ...     1.658507e+09  1.658507e+09\n",
       "9         algorithm1  gemm_6.75e+04  ...     1.658507e+09  1.658507e+09\n",
       "10        algorithm1  gemm_6.75e+04  ...     1.658507e+09  1.658507e+09\n",
       "11        algorithm1  gemm_6.75e+04  ...     1.658507e+09  1.658507e+09\n",
       "12        algorithm5  gemm_6.75e+04  ...     1.658507e+09  1.658507e+09\n",
       "13        algorithm5  gemm_8.44e+05  ...     1.658507e+09  1.658507e+09\n",
       "14        algorithm5  gemm_8.44e+05  ...     1.658507e+09  1.658507e+09\n",
       "15        algorithm3  gemm_6.75e+04  ...     1.658507e+09  1.658507e+09\n",
       "16        algorithm3  gemm_6.75e+04  ...     1.658507e+09  1.658507e+09\n",
       "17        algorithm3  gemm_8.44e+05  ...     1.658507e+09  1.658507e+09\n",
       "\n",
       "[18 rows x 7 columns]"
      ]
     },
     "execution_count": 62,
     "metadata": {},
     "output_type": "execute_result"
    }
   ],
   "source": [
    "mt_backend = dc_backend.get_runtimes_table()\n",
    "mt_backend"
   ]
  },
  {
   "cell_type": "markdown",
   "id": "dbe5b9bc",
   "metadata": {},
   "source": [
    "#### 5. Filter for competing variants"
   ]
  },
  {
   "cell_type": "code",
   "execution_count": 63,
   "id": "961deeeb",
   "metadata": {},
   "outputs": [],
   "source": [
    "filterAlgs_backend = FilterOnKPIs(ct_backend, mt_backend)"
   ]
  },
  {
   "cell_type": "code",
   "execution_count": 64,
   "id": "e5d4bf20",
   "metadata": {},
   "outputs": [
    {
     "data": {
      "text/html": [
       "<div>\n",
       "<style scoped>\n",
       "    .dataframe tbody tr th:only-of-type {\n",
       "        vertical-align: middle;\n",
       "    }\n",
       "\n",
       "    .dataframe tbody tr th {\n",
       "        vertical-align: top;\n",
       "    }\n",
       "\n",
       "    .dataframe thead th {\n",
       "        text-align: right;\n",
       "    }\n",
       "</style>\n",
       "<table border=\"1\" class=\"dataframe\">\n",
       "  <thead>\n",
       "    <tr style=\"text-align: right;\">\n",
       "      <th></th>\n",
       "      <th>case:concept:name</th>\n",
       "      <th>case:timestamp:start</th>\n",
       "      <th>case:timestamp:end</th>\n",
       "      <th>case:duration</th>\n",
       "      <th>case:flops</th>\n",
       "      <th>case:num_kernels</th>\n",
       "      <th>case:rel-flops</th>\n",
       "      <th>case:rel-duration</th>\n",
       "    </tr>\n",
       "  </thead>\n",
       "  <tbody>\n",
       "    <tr>\n",
       "      <th>0</th>\n",
       "      <td>algorithm1</td>\n",
       "      <td>1.658504e+09</td>\n",
       "      <td>1.658504e+09</td>\n",
       "      <td>0.000039</td>\n",
       "      <td>202000.0</td>\n",
       "      <td>3</td>\n",
       "      <td>0.000000</td>\n",
       "      <td>0.006135</td>\n",
       "    </tr>\n",
       "    <tr>\n",
       "      <th>3</th>\n",
       "      <td>algorithm0</td>\n",
       "      <td>1.658504e+09</td>\n",
       "      <td>1.658504e+09</td>\n",
       "      <td>0.000039</td>\n",
       "      <td>202000.0</td>\n",
       "      <td>3</td>\n",
       "      <td>0.000000</td>\n",
       "      <td>0.000000</td>\n",
       "    </tr>\n",
       "    <tr>\n",
       "      <th>4</th>\n",
       "      <td>algorithm3</td>\n",
       "      <td>1.658504e+09</td>\n",
       "      <td>1.658504e+09</td>\n",
       "      <td>0.000082</td>\n",
       "      <td>979000.0</td>\n",
       "      <td>3</td>\n",
       "      <td>3.846535</td>\n",
       "      <td>1.110429</td>\n",
       "    </tr>\n",
       "    <tr>\n",
       "      <th>5</th>\n",
       "      <td>algorithm2</td>\n",
       "      <td>1.658504e+09</td>\n",
       "      <td>1.658504e+09</td>\n",
       "      <td>0.000082</td>\n",
       "      <td>979000.0</td>\n",
       "      <td>3</td>\n",
       "      <td>3.846535</td>\n",
       "      <td>1.110429</td>\n",
       "    </tr>\n",
       "  </tbody>\n",
       "</table>\n",
       "</div>"
      ],
      "text/plain": [
       "  case:concept:name  case:timestamp:start  ...  case:rel-flops  case:rel-duration\n",
       "0        algorithm1          1.658504e+09  ...        0.000000           0.006135\n",
       "3        algorithm0          1.658504e+09  ...        0.000000           0.000000\n",
       "4        algorithm3          1.658504e+09  ...        3.846535           1.110429\n",
       "5        algorithm2          1.658504e+09  ...        3.846535           1.110429\n",
       "\n",
       "[4 rows x 8 columns]"
      ]
     },
     "execution_count": 64,
     "metadata": {},
     "output_type": "execute_result"
    }
   ],
   "source": [
    "competing_algs_table = filterAlgs.filter_on_flops_and_rel_duration(1.2)\n",
    "competing_algs_table"
   ]
  },
  {
   "cell_type": "code",
   "execution_count": 66,
   "id": "36dedb47",
   "metadata": {},
   "outputs": [
    {
     "data": {
      "text/plain": [
       "['algorithm1', 'algorithm0', 'algorithm3', 'algorithm2']"
      ]
     },
     "execution_count": 66,
     "metadata": {},
     "output_type": "execute_result"
    }
   ],
   "source": [
    "competing_algs = list(competing_algs_table['case:concept:name'])\n",
    "competing_algs"
   ]
  },
  {
   "cell_type": "markdown",
   "id": "fbde5511",
   "metadata": {},
   "source": [
    "#### 6. Generate measurement scripts for the competing variants in the backend"
   ]
  },
  {
   "cell_type": "code",
   "execution_count": 67,
   "id": "af9d31fa",
   "metadata": {},
   "outputs": [],
   "source": [
    "measurements_script = \"generate-measurements-script.py\"\n",
    "variants = competing_algs\n",
    "reps = 3\n",
    "run_id = 0"
   ]
  },
  {
   "cell_type": "code",
   "execution_count": 68,
   "id": "1189cce5",
   "metadata": {},
   "outputs": [
    {
     "name": "stdout",
     "output_type": "stream",
     "text": [
      "source ~/.analyzer; cd sample_generation/experiments/75_75_6_75_75; python generate-measurements-script.py --algs algorithm1 algorithm0 algorithm3 algorithm2 --rep 3 --threads 4 --id 0\n",
      "[]\n",
      "\u001b[92mSuccess: Backend interactive run: Generate Measurement script 0\u001b[0m\n"
     ]
    },
    {
     "data": {
      "text/plain": [
       "0"
      ]
     },
     "execution_count": 68,
     "metadata": {},
     "output_type": "execute_result"
    }
   ],
   "source": [
    "runner.generate_measurements_script(measurements_script, variants, run_id, reps)"
   ]
  },
  {
   "cell_type": "markdown",
   "id": "32c3bb1f",
   "metadata": {},
   "source": [
    "#### 7. Run the measurement script in the backend"
   ]
  },
  {
   "cell_type": "code",
   "execution_count": 69,
   "id": "19656708",
   "metadata": {},
   "outputs": [
    {
     "name": "stdout",
     "output_type": "stream",
     "text": [
      "Running Measurements Backend interactive\n",
      "source ~/.analyzer; cd sample_generation/experiments/75_75_6_75_75; julia runner_competing_0.jl \n",
      "[]\n",
      "\u001b[92mSuccess: Backend interactive run: Measurements from runner_competing_0.jl\u001b[0m\n"
     ]
    },
    {
     "data": {
      "text/plain": [
       "0"
      ]
     },
     "execution_count": 69,
     "metadata": {},
     "output_type": "execute_result"
    }
   ],
   "source": [
    "runner_competing_script = \"runner_competing_0.jl\"\n",
    "runner.measure_variants(app=\"julia\", runner_script=runner_competing_script)"
   ]
  },
  {
   "cell_type": "markdown",
   "id": "0f4cec01",
   "metadata": {},
   "source": [
    "### Execute the measurement script in a batch system"
   ]
  },
  {
   "cell_type": "markdown",
   "id": "29d8d7e9",
   "metadata": {},
   "source": [
    "Generate measurement script"
   ]
  },
  {
   "cell_type": "code",
   "execution_count": 72,
   "id": "eaafe1fe",
   "metadata": {},
   "outputs": [
    {
     "name": "stdout",
     "output_type": "stream",
     "text": [
      "source ~/.analyzer; cd sample_generation/experiments/75_75_6_75_75; python generate-measurements-script.py --algs algorithm1 algorithm0 algorithm3 algorithm2 --rep 3 --threads 4 --id 1\n",
      "[]\n",
      "\u001b[92mSuccess: Backend interactive run: Generate Measurement script 1\u001b[0m\n"
     ]
    },
    {
     "data": {
      "text/plain": [
       "0"
      ]
     },
     "execution_count": 72,
     "metadata": {},
     "output_type": "execute_result"
    }
   ],
   "source": [
    "run_id = 1\n",
    "runner.generate_measurements_script(measurements_script, variants, run_id, reps)"
   ]
  },
  {
   "cell_type": "markdown",
   "id": "28fc5fbe",
   "metadata": {},
   "source": [
    "Submit job"
   ]
  },
  {
   "cell_type": "code",
   "execution_count": 74,
   "id": "2df707d0",
   "metadata": {},
   "outputs": [
    {
     "name": "stdout",
     "output_type": "stream",
     "text": [
      "Running Measurements Backend batch\n",
      "source ~/.analyzer; cd sample_generation/experiments/75_75_6_75_75; sbatch submit.sh julia 'runner_competing_1.jl '\n",
      "['Submitted batch job 28808825\\n']\n",
      "\u001b[92mSuccess: Backend batch run: Measurements from runner_competing_1.jl\u001b[0m\n"
     ]
    },
    {
     "data": {
      "text/plain": [
       "0"
      ]
     },
     "execution_count": 74,
     "metadata": {},
     "output_type": "execute_result"
    }
   ],
   "source": [
    "submit_cmd = \"sbatch submit.sh\"\n",
    "runner_competing_script = \"runner_competing_1.jl\"\n",
    "runner.measure_variants(app=\"julia\", runner_script=runner_competing_script, submit_cmd=submit_cmd)"
   ]
  },
  {
   "cell_type": "markdown",
   "id": "4833df75",
   "metadata": {},
   "source": [
    "Check job status"
   ]
  },
  {
   "cell_type": "code",
   "execution_count": 75,
   "id": "fcc88fc6",
   "metadata": {},
   "outputs": [
    {
     "name": "stdout",
     "output_type": "stream",
     "text": [
      "          28808825        ih               75_75_6_75_75_T4 as641651  RUNNING       0:01   3:00:00      1 linuxihdc074\n",
      "\n"
     ]
    },
    {
     "data": {
      "text/plain": [
       "2"
      ]
     },
     "execution_count": 75,
     "metadata": {},
     "output_type": "execute_result"
    }
   ],
   "source": [
    "bm.check_slrum_status(runner.job_name)"
   ]
  },
  {
   "cell_type": "markdown",
   "id": "984de582",
   "metadata": {},
   "source": [
    "Check if file exists"
   ]
  },
  {
   "cell_type": "code",
   "execution_count": 78,
   "id": "8b680198",
   "metadata": {},
   "outputs": [
    {
     "data": {
      "text/plain": [
       "True"
      ]
     },
     "execution_count": 78,
     "metadata": {},
     "output_type": "execute_result"
    }
   ],
   "source": [
    "bm.check_if_file_exists(os.path.join(runner.operands_dir, \"run_times_competing_1.csv\"))"
   ]
  },
  {
   "cell_type": "markdown",
   "id": "44bfc6bb",
   "metadata": {},
   "source": [
    "#### 8. Collect data"
   ]
  },
  {
   "cell_type": "code",
   "execution_count": 79,
   "id": "9718b6b4",
   "metadata": {},
   "outputs": [
    {
     "name": "stdout",
     "output_type": "stream",
     "text": [
      "scp as641651@login18-1.hpc.itc.rwth-aachen.de:sample_generation/experiments/75_75_6_75_75/run_times_competing_1.csv sample_generation/cluster/\n",
      "b''\n"
     ]
    },
    {
     "data": {
      "text/html": [
       "<div>\n",
       "<style scoped>\n",
       "    .dataframe tbody tr th:only-of-type {\n",
       "        vertical-align: middle;\n",
       "    }\n",
       "\n",
       "    .dataframe tbody tr th {\n",
       "        vertical-align: top;\n",
       "    }\n",
       "\n",
       "    .dataframe thead th {\n",
       "        text-align: right;\n",
       "    }\n",
       "</style>\n",
       "<table border=\"1\" class=\"dataframe\">\n",
       "  <thead>\n",
       "    <tr style=\"text-align: right;\">\n",
       "      <th></th>\n",
       "      <th>case:concept:name</th>\n",
       "      <th>concept:name</th>\n",
       "      <th>concept:flops</th>\n",
       "      <th>concept:operation</th>\n",
       "      <th>concept:kernel</th>\n",
       "      <th>timestamp:start</th>\n",
       "      <th>timestamp:end</th>\n",
       "    </tr>\n",
       "  </thead>\n",
       "  <tbody>\n",
       "    <tr>\n",
       "      <th>0</th>\n",
       "      <td>algorithm1_02</td>\n",
       "      <td>gemm_6.75e+04</td>\n",
       "      <td>67500.0</td>\n",
       "      <td>tmp1 = (A B)</td>\n",
       "      <td>gemm!('N', 'N', 1.0, ml0, ml1, 0.0, ml4)</td>\n",
       "      <td>1.658508e+09</td>\n",
       "      <td>1.658508e+09</td>\n",
       "    </tr>\n",
       "    <tr>\n",
       "      <th>1</th>\n",
       "      <td>algorithm1_02</td>\n",
       "      <td>gemm_6.75e+04</td>\n",
       "      <td>67500.0</td>\n",
       "      <td>tmp3 = (C D)</td>\n",
       "      <td>gemm!('N', 'N', 1.0, ml2, ml3, 0.0, ml5)</td>\n",
       "      <td>1.658508e+09</td>\n",
       "      <td>1.658508e+09</td>\n",
       "    </tr>\n",
       "    <tr>\n",
       "      <th>2</th>\n",
       "      <td>algorithm1_02</td>\n",
       "      <td>gemm_6.75e+04</td>\n",
       "      <td>67500.0</td>\n",
       "      <td>tmp6 = (tmp1 tmp3)</td>\n",
       "      <td>gemm!('N', 'N', 1.0, ml4, ml5, 0.0, ml6)</td>\n",
       "      <td>1.658508e+09</td>\n",
       "      <td>1.658508e+09</td>\n",
       "    </tr>\n",
       "    <tr>\n",
       "      <th>3</th>\n",
       "      <td>algorithm2_02</td>\n",
       "      <td>gemm_6.75e+04</td>\n",
       "      <td>67500.0</td>\n",
       "      <td>tmp1 = (A B)</td>\n",
       "      <td>gemm!('N', 'N', 1.0, ml0, ml1, 0.0, ml4)</td>\n",
       "      <td>1.658508e+09</td>\n",
       "      <td>1.658508e+09</td>\n",
       "    </tr>\n",
       "    <tr>\n",
       "      <th>4</th>\n",
       "      <td>algorithm2_02</td>\n",
       "      <td>gemm_6.75e+04</td>\n",
       "      <td>67500.0</td>\n",
       "      <td>tmp4 = (tmp1 C)</td>\n",
       "      <td>gemm!('N', 'N', 1.0, ml4, ml2, 0.0, ml5)</td>\n",
       "      <td>1.658508e+09</td>\n",
       "      <td>1.658508e+09</td>\n",
       "    </tr>\n",
       "  </tbody>\n",
       "</table>\n",
       "</div>"
      ],
      "text/plain": [
       "  case:concept:name   concept:name  ...  timestamp:start timestamp:end\n",
       "0     algorithm1_02  gemm_6.75e+04  ...     1.658508e+09  1.658508e+09\n",
       "1     algorithm1_02  gemm_6.75e+04  ...     1.658508e+09  1.658508e+09\n",
       "2     algorithm1_02  gemm_6.75e+04  ...     1.658508e+09  1.658508e+09\n",
       "3     algorithm2_02  gemm_6.75e+04  ...     1.658508e+09  1.658508e+09\n",
       "4     algorithm2_02  gemm_6.75e+04  ...     1.658508e+09  1.658508e+09\n",
       "\n",
       "[5 rows x 7 columns]"
      ]
     },
     "execution_count": 79,
     "metadata": {},
     "output_type": "execute_result"
    }
   ],
   "source": [
    "mt_competing_0 = dc_backend.get_runtimes_competing_table(0)\n",
    "mt_competing_1 = dc_backend.get_runtimes_competing_table(1)\n",
    "mt_competing_0.head()"
   ]
  },
  {
   "cell_type": "code",
   "execution_count": null,
   "id": "1e3cb57b",
   "metadata": {},
   "outputs": [],
   "source": []
  }
 ],
 "metadata": {
  "kernelspec": {
   "display_name": "Python 3 (ipykernel)",
   "language": "python",
   "name": "python3"
  },
  "language_info": {
   "codemirror_mode": {
    "name": "ipython",
    "version": 3
   },
   "file_extension": ".py",
   "mimetype": "text/x-python",
   "name": "python",
   "nbconvert_exporter": "python",
   "pygments_lexer": "ipython3",
   "version": "3.9.7"
  }
 },
 "nbformat": 4,
 "nbformat_minor": 5
}
